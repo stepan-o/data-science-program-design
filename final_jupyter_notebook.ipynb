{
 "cells": [
  {
   "cell_type": "markdown",
   "metadata": {
    "toc": true
   },
   "source": [
    "<h1>Table of Contents<span class=\"tocSkip\"></span></h1>\n",
    "<div class=\"toc\"><ul class=\"toc-item\"><li><span><a href=\"#Scrape-job-postings-from-Indeed.ca\" data-toc-modified-id=\"Scrape-job-postings-from-Indeed.ca-1\"><span class=\"toc-item-num\">1&nbsp;&nbsp;</span>Scrape job postings from Indeed.ca</a></span><ul class=\"toc-item\"><li><span><a href=\"#Collecting-job-postings-from-Indeed.ca\" data-toc-modified-id=\"Collecting-job-postings-from-Indeed.ca-1.1\"><span class=\"toc-item-num\">1.1&nbsp;&nbsp;</span>Collecting job postings from Indeed.ca</a></span></li><li><span><a href=\"#Processing-of-the-collected-job-postings\" data-toc-modified-id=\"Processing-of-the-collected-job-postings-1.2\"><span class=\"toc-item-num\">1.2&nbsp;&nbsp;</span>Processing of the collected job postings</a></span><ul class=\"toc-item\"><li><span><a href=\"#Read-the-raw-scraped-files\" data-toc-modified-id=\"Read-the-raw-scraped-files-1.2.1\"><span class=\"toc-item-num\">1.2.1&nbsp;&nbsp;</span>Read the raw scraped files</a></span></li></ul></li><li><span><a href=\"#Cleaning-raw-job-posting-data\" data-toc-modified-id=\"Cleaning-raw-job-posting-data-1.3\"><span class=\"toc-item-num\">1.3&nbsp;&nbsp;</span>Cleaning raw job posting data</a></span></li><li><span><a href=\"#Parsing-raw-job-posting-data\" data-toc-modified-id=\"Parsing-raw-job-posting-data-1.4\"><span class=\"toc-item-num\">1.4&nbsp;&nbsp;</span>Parsing raw job posting data</a></span><ul class=\"toc-item\"><li><span><a href=\"#Dictionary-of-keywords-to-parse-skills\" data-toc-modified-id=\"Dictionary-of-keywords-to-parse-skills-1.4.1\"><span class=\"toc-item-num\">1.4.1&nbsp;&nbsp;</span>Dictionary of keywords to parse skills</a></span></li><li><span><a href=\"#Define-a-function-parse_skills\" data-toc-modified-id=\"Define-a-function-parse_skills-1.4.2\"><span class=\"toc-item-num\">1.4.2&nbsp;&nbsp;</span>Define a function <code>parse_skills</code></a></span></li><li><span><a href=\"#Parse-job-postings\" data-toc-modified-id=\"Parse-job-postings-1.4.3\"><span class=\"toc-item-num\">1.4.3&nbsp;&nbsp;</span>Parse job postings</a></span></li></ul></li><li><span><a href=\"#Cleaning-parsed-job-posting-data\" data-toc-modified-id=\"Cleaning-parsed-job-posting-data-1.5\"><span class=\"toc-item-num\">1.5&nbsp;&nbsp;</span>Cleaning parsed job posting data</a></span></li><li><span><a href=\"#Exploratory-Data-Analysis-(EDA)-of-the-scraped-Indeed.ca-job-postings\" data-toc-modified-id=\"Exploratory-Data-Analysis-(EDA)-of-the-scraped-Indeed.ca-job-postings-1.6\"><span class=\"toc-item-num\">1.6&nbsp;&nbsp;</span>Exploratory Data Analysis (EDA) of the scraped Indeed.ca job postings</a></span><ul class=\"toc-item\"><li><span><a href=\"#Define-a-function-plot_bars_with_minmax\" data-toc-modified-id=\"Define-a-function-plot_bars_with_minmax-1.6.1\"><span class=\"toc-item-num\">1.6.1&nbsp;&nbsp;</span>Define a function <code>plot_bars_with_minmax</code></a></span></li><li><span><a href=\"#Reordering-columns-for-better-display\" data-toc-modified-id=\"Reordering-columns-for-better-display-1.6.2\"><span class=\"toc-item-num\">1.6.2&nbsp;&nbsp;</span>Reordering columns for better display</a></span></li></ul></li><li><span><a href=\"#Job-titles-in-posts-scraped-from-Indeed.ca\" data-toc-modified-id=\"Job-titles-in-posts-scraped-from-Indeed.ca-1.7\"><span class=\"toc-item-num\">1.7&nbsp;&nbsp;</span>Job titles in posts scraped from Indeed.ca</a></span></li><li><span><a href=\"#Job-locations\" data-toc-modified-id=\"Job-locations-1.8\"><span class=\"toc-item-num\">1.8&nbsp;&nbsp;</span>Job locations</a></span><ul class=\"toc-item\"><li><span><a href=\"#Managerial-roles\" data-toc-modified-id=\"Managerial-roles-1.8.1\"><span class=\"toc-item-num\">1.8.1&nbsp;&nbsp;</span>Managerial roles</a></span></li><li><span><a href=\"#Technical-roles\" data-toc-modified-id=\"Technical-roles-1.8.2\"><span class=\"toc-item-num\">1.8.2&nbsp;&nbsp;</span>Technical roles</a></span></li></ul></li><li><span><a href=\"#Frequency-of-skills-mentioned-in-job-postings\" data-toc-modified-id=\"Frequency-of-skills-mentioned-in-job-postings-1.9\"><span class=\"toc-item-num\">1.9&nbsp;&nbsp;</span>Frequency of skills mentioned in job postings</a></span></li><li><span><a href=\"#Hierachical-Clustering-of-skills-from-job-postings-scraped-form-Indeed.ca\" data-toc-modified-id=\"Hierachical-Clustering-of-skills-from-job-postings-scraped-form-Indeed.ca-1.10\"><span class=\"toc-item-num\">1.10&nbsp;&nbsp;</span>Hierachical Clustering of skills from job postings scraped form Indeed.ca</a></span></li></ul></li></ul></div>"
   ]
  },
  {
   "cell_type": "markdown",
   "metadata": {},
   "source": [
    "# MIE1624 Introduction to Data Science and Analytics"
   ]
  },
  {
   "cell_type": "markdown",
   "metadata": {},
   "source": [
    "# Winter 2019"
   ]
  },
  {
   "cell_type": "markdown",
   "metadata": {},
   "source": [
    "# Data Science curriculum design"
   ]
  },
  {
   "cell_type": "markdown",
   "metadata": {},
   "source": [
    "# Final project report -- jupyter notebook"
   ]
  },
  {
   "cell_type": "markdown",
   "metadata": {},
   "source": [
    "# Team Number 1\n",
    "\n",
    "Stepan Oskin      --- S/N:1004648624  \n",
    "\n",
    "Naveed Gazi       --- S/N:994434689  \n",
    "\n",
    "Ahmed Abdelmageed --- S/N:1005605604  \n",
    "\n",
    "John Tawadros     --- S/N:1004687500  \n",
    "\n",
    "Maolin Wu         --- S/N:1000277407"
   ]
  },
  {
   "cell_type": "markdown",
   "metadata": {
    "toc": true
   },
   "source": [
    "# Contents of this notebook\n",
    "\n",
    "This jupyter notebook presents the full workflow that went into answering the questions of the final project. It covers the process of data collection, processing, and the process of deriving project proposals from the insights found through data analysis. Data that was used to inform project design includes scraped job postings from Indeed.ca that relate to technical and managerial positions related to Data Science and the results of 2018 ML and DS survey organized by Kaggle."
   ]
  },
  {
   "cell_type": "markdown",
   "metadata": {},
   "source": [
    "## Scrape job postings from Indeed.ca\n",
    "\n",
    "We scraped a total of 1136 job postings listed on indeed.ca by searching the following Job titles setting the search location to be “Canada”.\n",
    "\n",
    "Job titles that indicate the skills required in the industry for graduates of a technical Master’s program or an introductory technical course in Data Science:\n",
    "\n",
    "* Data Analyst\n",
    "* Data Scientist \n",
    "\n",
    "The job titles searched for graduates of a business/management Master’s program are:\n",
    "\n",
    "* Management Analytics\n",
    "* Business Analyst\n",
    "* Data Manager\n",
    "* Analytics Manager\n",
    "* AI System Designer\n",
    "\n",
    "\n",
    "1136 job listings that resulted from searching each of the above technical job titles were scraped and processed using our indeed_web_scraper routine. "
   ]
  },
  {
   "cell_type": "markdown",
   "metadata": {},
   "source": [
    "### Collecting job postings from Indeed.ca"
   ]
  },
  {
   "cell_type": "markdown",
   "metadata": {},
   "source": [
    "The indeed_web_scraper routine does the following:\n",
    "\n",
    "* Collects the first 10 result pages from searching each of the job titles \n",
    "\n",
    "\n",
    "* Scrapes each page collecting all the job postings from it in the form of key:value pairs of job_link:job_page_html \n",
    "\n",
    "\n",
    "* Each of the search result pages contains 20 job postings, so a maximum of 200 postings is returned from each search term\n",
    "\n",
    "    * The number of jobs recorded can be less, as the job postings are updated in a dictionary of results, causing duplicate postings to be overriten during the scraping process\n",
    "\n",
    "\n",
    "* All scraped job postings are recorded in two .json files -- one for technical roles and one for managerial"
   ]
  },
  {
   "cell_type": "markdown",
   "metadata": {},
   "source": [
    "### Processing of the collected job postings\n",
    "\n",
    "Second part of the scraping process deals with parsing job information from the recorded raw HTML data and extracting the relevant skills keywords using a dictionary of keywords called `skills_keywords_dict`.\n",
    "\n",
    "The web scraper then looks for certain keywords that are defined in a Python dictionary called `skills_keywords_dict`\n",
    "The `skills_keywords_dict` was constructed to include a comprehensive list of skills that relate to programming languages, technical skills, and business, management, and soft skills that we would like to capture the frequency of their occurence in the listed jobs\n",
    "\n",
    "The web scraper forms a Pandas DataFrame with its rows representing the job postings, and columns representing each of the skills in the `skills_keywords_dict`."
   ]
  },
  {
   "cell_type": "code",
   "execution_count": null,
   "metadata": {},
   "outputs": [],
   "source": [
    "import re\n",
    "import pandas as pd\n",
    "import numpy as np\n",
    "import matplotlib.pyplot as plt\n",
    "from scipy import zeros as sci_zeros\n",
    "from sklearn.preprocessing import normalize\n",
    "import scipy.cluster.hierarchy as sch\n",
    "from scipy import zeros as sci_zeros\n",
    "from scipy.spatial.distance import euclidean"
   ]
  },
  {
   "cell_type": "code",
   "execution_count": 1,
   "metadata": {},
   "outputs": [],
   "source": [
    "%matplotlib inline\n",
    "import json\n",
    "import pandas as pd\n",
    "import numpy as np\n",
    "import matplotlib.pyplot as plt\n",
    "import seaborn as sns\n",
    "import requests\n",
    "from bs4 import BeautifulSoup\n",
    "import time\n",
    "from IPython.display import HTML"
   ]
  },
  {
   "cell_type": "markdown",
   "metadata": {},
   "source": [
    "#### Read the raw scraped files"
   ]
  },
  {
   "cell_type": "markdown",
   "metadata": {},
   "source": [
    "##### Read the job postings with Managerial roles"
   ]
  },
  {
   "cell_type": "code",
   "execution_count": 43,
   "metadata": {},
   "outputs": [
    {
     "name": "stdout",
     "output_type": "stream",
     "text": [
      "Wall time: 442 ms\n"
     ]
    }
   ],
   "source": [
    "%%time\n",
    "mng_raw_path = 'mng_scraping_results.json'\n",
    "\n",
    "mng_raw_series = pd.read_json(mng_raw_path, typ='series')"
   ]
  },
  {
   "cell_type": "code",
   "execution_count": 44,
   "metadata": {},
   "outputs": [
    {
     "data": {
      "text/plain": [
       "https://www.indeed.ca/pagead/clk?mo=r&ad=-6NYlbfkN0AXsKHYq7QGkZwc7rzx_waPIGFbJnJ9EXZDOEV7y426NbOrrZMqmF9BM7WFQQGW4jWt0AMDM-d3_h0XYoa1QNgjmB1DLQikxr6giKfnS1j6qODKl-g87OQogbb6Q-QUsfwgv5mfq4tnS49aNcc1JtQOS22JwGqsZCnUz4yFXiGAM-IGFfsesqd_KfwIarh9Q8_eZEWrOTEgs8WihDy7gXA3l1sSjsi8_E1zgoIzsDYF5qmYGZb551eMEYblKiUSeucT7Uf2hkWmREnw5YTn_HLlTkA82z956u3Mi0FCOKPFB6M_HpVwagw6PO1UAvSpg-Aejn12BN37zJ3WvpjAEtWunRDQ6ghyY_4HrGH_wgof88eWkOIkwdDikHp3lWUhxZlH0gSPF61bQ_yW3N4wGPENN64JVe7WlUoaLWZoScfVaSguv8OBMCQWAqGVczJYwLm9kKFI4k3vaLGQOqJLl0BM&vjs=3&p=1&sk=&fvj=1    <html dir=\"ltr\" lang=\"en\">\\n<head>\\n    <title...\n",
       "dtype: object"
      ]
     },
     "execution_count": 44,
     "metadata": {},
     "output_type": "execute_result"
    }
   ],
   "source": [
    "mng_raw_series.head(1)"
   ]
  },
  {
   "cell_type": "code",
   "execution_count": 45,
   "metadata": {},
   "outputs": [
    {
     "name": "stdout",
     "output_type": "stream",
     "text": [
      "Wall time: 1.84 s\n"
     ]
    }
   ],
   "source": [
    "%%time\n",
    "mng_raw_path_1000 = 'mng_scraping_results_1000.json'\n",
    "\n",
    "mng_raw_series_1000 = pd.read_json(mng_raw_path_1000, typ='series')"
   ]
  },
  {
   "cell_type": "code",
   "execution_count": 46,
   "metadata": {},
   "outputs": [
    {
     "data": {
      "text/plain": [
       "https://www.indeed.ca/pagead/clk?mo=r&ad=-6NYlbfkN0CBmSPpi4tTDwM_f-edI5t0jpbixiEs8vnxRVn_DbL5gK661yDpOgL_WldtDN1zFa_K9xwnJVeezO8cfwa-WK0vyFTJxavB46Vx73QXS_krf-eOt9XZKZpdTX5oUzRw61A4zvm4I24zSorymTG822F5O1f1q0dVxdEw_thyozWoXsWi_i5CqhYiYFS5JLZ2IGGrIFpsISqWXaUwSGArJIE_HCCWtQzl7vqOpwUtuybqQtFs-slml0H6vYXErYhXAEqzECvSkKZro6Lth8e8SXQuTW7m84JSYE0K5QrjOAoeTT1owo3miZhU04ikDFOiL9RYbE3K3EwYvbu_URQyy1UIbMZvYAey8E0Al6kSZHqi9RVz8NnLlHidNY-N3fPBd5mlkJzfCU0OnziAaUD_-UtvSNgxmSekU4C7AmA4Om66Geaa9uxgBp_5bkYtQSo5U6c=&vjs=3&p=1&sk=&fvj=1    <html dir=\"ltr\" lang=\"en\">\\n<head>\\n    <title...\n",
       "dtype: object"
      ]
     },
     "execution_count": 46,
     "metadata": {},
     "output_type": "execute_result"
    }
   ],
   "source": [
    "mng_raw_series_1000.head(1)"
   ]
  },
  {
   "cell_type": "markdown",
   "metadata": {},
   "source": [
    "##### Read the job postings with Technical roles"
   ]
  },
  {
   "cell_type": "code",
   "execution_count": 51,
   "metadata": {},
   "outputs": [
    {
     "name": "stdout",
     "output_type": "stream",
     "text": [
      "Wall time: 324 ms\n"
     ]
    }
   ],
   "source": [
    "%%time\n",
    "tech_raw_path = 'tech_scraping_results.json'\n",
    "\n",
    "tech_raw_series = pd.read_json(tech_raw_path, typ='series')"
   ]
  },
  {
   "cell_type": "code",
   "execution_count": 52,
   "metadata": {},
   "outputs": [
    {
     "data": {
      "text/plain": [
       "https://www.indeed.ca/pagead/clk?mo=r&ad=-6NYlbfkN0CoBMFeLrHNFj3ptnzjAx68Hzj1PMje5Z5IBdC9-BB_tevnEh_TttUa8Ukn3-5l2pAc8rFpvAbEzqoxDH-99qFq-eOhtn12v9rJgRe6_kgJTRB00WukGvIkiti0N4jYr_UaMQPRxPX1G0KVaaHp-IqAZjWkttdjZ7rwyoIS-UDCn4l3jOGgBqRDe0pHl-_klWW8b9IX3rTmbURQeVEjzrx5MeFZBokVj-SNHU5_H5jdn3dU0LWqvlvZebIkywhrucd3zBREt5Xr-R_q5CxPUtzV8c3qZL3DcgJfXi1uvbVO0LkO5qAJ80vZeB6547oMx1m4pbgEkNLNUA4wRHj8zqYiLp6khFm98UOg2Y2NHdvXoNqfImU7_8XAVuevCZCWXAI-WGR61iQUlHWMlEyuFPxFIAtvP6k-zZs=&vjs=3&p=1&sk=&fvj=1    <html dir=\"ltr\" lang=\"en\">\\n<head>\\n    <title...\n",
       "dtype: object"
      ]
     },
     "execution_count": 52,
     "metadata": {},
     "output_type": "execute_result"
    }
   ],
   "source": [
    "tech_raw_series.head(1)"
   ]
  },
  {
   "cell_type": "code",
   "execution_count": 53,
   "metadata": {},
   "outputs": [
    {
     "name": "stdout",
     "output_type": "stream",
     "text": [
      "Wall time: 1.09 s\n"
     ]
    }
   ],
   "source": [
    "%%time\n",
    "tech_raw_path_1000 = 'tech_scraping_results_1000.json'\n",
    "\n",
    "tech_raw_series_1000 = pd.read_json(tech_raw_path_1000, typ='series')"
   ]
  },
  {
   "cell_type": "code",
   "execution_count": 54,
   "metadata": {},
   "outputs": [
    {
     "data": {
      "text/plain": [
       "https://www.indeed.ca/pagead/clk?mo=r&ad=-6NYlbfkN0CoBMFeLrHNFj3ptnzjAx68Hzj1PMje5Z5IBdC9-BB_tevnEh_TttUa8Ukn3-5l2pAc8rFpvAbEzqoxDH-99qFq-eOhtn12v9rJgRe6_kgJTRB00WukGvIkiti0N4jYr_UaMQPRxPX1G0KVaaHp-IqApnDXtbA_avUd8dwN4CMa79Pct-_WDaYbE8mXclHivH_7bao4FU0mrGmgLUX3YBt7jiJf7h-2DtZYFm6ahW5vwcNx97sT4w7mqS2BFBBYNESLoWy26TfLIeiTVZylNGNp_gXC4gpwJ-4lCXIQi66rgShMcPlpvNoLmMXjC5rlJIeae8igkZdNyIZ0UnIrvgaSnYBszsIPXiR1AnLMEnjvhVhrdq4Uaqbp68PT4orK-uW-QC7-L2UAEJIG29xzxrcMQOEP5ilLt_g=&vjs=3&p=1&sk=&fvj=1    <html dir=\"ltr\" lang=\"en\">\\n<head>\\n    <title...\n",
       "dtype: object"
      ]
     },
     "execution_count": 54,
     "metadata": {},
     "output_type": "execute_result"
    }
   ],
   "source": [
    "tech_raw_series_1000.head(1)"
   ]
  },
  {
   "cell_type": "markdown",
   "metadata": {},
   "source": [
    "### Cleaning raw job posting data\n",
    "\n",
    "Duplicate check is performed to see if identical pages have been recorded by the scraper."
   ]
  },
  {
   "cell_type": "code",
   "execution_count": 22,
   "metadata": {},
   "outputs": [
    {
     "data": {
      "text/plain": [
       "0"
      ]
     },
     "execution_count": 22,
     "metadata": {},
     "output_type": "execute_result"
    }
   ],
   "source": [
    "sum(mng_raw_series.duplicated())"
   ]
  },
  {
   "cell_type": "code",
   "execution_count": 55,
   "metadata": {},
   "outputs": [
    {
     "data": {
      "text/plain": [
       "0"
      ]
     },
     "execution_count": 55,
     "metadata": {},
     "output_type": "execute_result"
    }
   ],
   "source": [
    "sum(mng_raw_series_1000.duplicated())"
   ]
  },
  {
   "cell_type": "code",
   "execution_count": 21,
   "metadata": {},
   "outputs": [
    {
     "data": {
      "text/plain": [
       "0"
      ]
     },
     "execution_count": 21,
     "metadata": {},
     "output_type": "execute_result"
    }
   ],
   "source": [
    "sum(tech_raw_series.duplicated())"
   ]
  },
  {
   "cell_type": "code",
   "execution_count": 56,
   "metadata": {},
   "outputs": [
    {
     "data": {
      "text/plain": [
       "39"
      ]
     },
     "execution_count": 56,
     "metadata": {},
     "output_type": "execute_result"
    }
   ],
   "source": [
    "sum(tech_raw_series_1000.duplicated())"
   ]
  },
  {
   "cell_type": "code",
   "execution_count": 58,
   "metadata": {},
   "outputs": [],
   "source": [
    "tech_raw_series_1000 = tech_raw_series_1000.drop_duplicates()"
   ]
  },
  {
   "cell_type": "code",
   "execution_count": 59,
   "metadata": {},
   "outputs": [
    {
     "data": {
      "text/plain": [
       "0"
      ]
     },
     "execution_count": 59,
     "metadata": {},
     "output_type": "execute_result"
    }
   ],
   "source": [
    "sum(tech_raw_series_1000.duplicated())"
   ]
  },
  {
   "cell_type": "markdown",
   "metadata": {},
   "source": [
    "During scraping, job postings are updated in a dictionary of results, causing duplicate postings to be overriten. This may result in the number of returned postings to be less than requested."
   ]
  },
  {
   "cell_type": "markdown",
   "metadata": {},
   "source": [
    "### Parsing raw job posting data"
   ]
  },
  {
   "cell_type": "markdown",
   "metadata": {},
   "source": [
    "#### Dictionary of keywords to parse skills\n",
    "\n",
    "Dictionary of skills keywords have been defined using a comprehensive list of subject, topics, and products that come up in the context of Data Science. \n",
    "\n",
    "Dictionary **design process have been iterated** to improve accuracy of skill capture based on results (sanity check on frequency counts of skills). \n",
    "\n",
    "* skill keywords parsing had **issues with precision**\n",
    "\n",
    "    * for example, language \"C\" being overdetected because of the letter \"C\" being mentioned in other context\n",
    "    \n",
    "    \n",
    "* skills keywords parsing also had **issues with recall**\n",
    "\n",
    "    * for example initially, only a few keywords were included to look for neural networks\n",
    "    \n",
    "    * this resulted in low frequency of mentions for neural networks in job postings \n",
    "    \n",
    "    * but as the list was expanded to include a broader range of keywords, such as \"TensorFlow\" or \"Keras\", neural-networks-related skills were detected in a significantly higher number of posts.\n",
    "\n",
    "\n",
    "This overall presents a challenge: resutls of parsing directly depend on definition of the keywords dictionary. Categories that involve too many variations can be overrepresented, while categories with only few keywords would be underrepresented in data parsed from job posts. Final dictionary appears to be sensible in terms of relevance, comprehensive in terms of subjects covered, and balanced to allow fair representation of skills in data."
   ]
  },
  {
   "cell_type": "markdown",
   "metadata": {},
   "source": [
    "##### Dictionary with skills used to parse job descriptions\n",
    "\n",
    "Categories become columns in the resulting DataFrame."
   ]
  },
  {
   "cell_type": "code",
   "execution_count": 4,
   "metadata": {},
   "outputs": [],
   "source": [
    "# dictionary with skills used to parse job descriptions, categories become columns in the resulting DataFrame\n",
    "skills_keywords_dict = {\n",
    "        # tech skills\n",
    "        'Excel': ['Excel'],\n",
    "        'Python': ['Python'],\n",
    "        'R': ['R ', ' R ', 'R,', 'R/'], # 'R' surrounded by spaces and signs\n",
    "        'Java': ['Java', 'JVM'],\n",
    "        'Scala': ['Scala'],\n",
    "        'C/C++': ['C/C++', 'C++', ' C '],   # 'C' surrounded by spaces and signs\n",
    "        'MATLAB': ['MATLAB'],\n",
    "        'SAS': ['SAS'],\n",
    "        'SQL/databases': ['SQL', 'databases'],\n",
    "        'Oracle':['Oracle'],\n",
    "        'SPSS': ['SPSS'],\n",
    "        'Stata': ['Stata'],\n",
    "        'Machine Learning': ['Machine Learning', 'ML'],\n",
    "        'Data Mining/Analytics': ['Data Mining', 'DM', 'Analytics'],\n",
    "        'NLP': ['Natural Language Processing', 'NLP'],\n",
    "        'Visualisation': ['Visualisation', 'Visualization'],\n",
    "        'Big Data': ['Big Data', 'Spark', 'kafka', 'Hive',\n",
    "                     'beam', 'Hadoop', 'MapReduce', 'Hbase',\n",
    "                     'Coudera', 'Hortonworks'],\n",
    "        'AWS Cloud': ['AWS'],\n",
    "        'Probability': ['probablity', 'probability theory'],\n",
    "        'Support Vector Machines': ['SVM', 'Support vector machines'],\n",
    "        'Neural Networks': ['Neural Networks', 'ANN', 'MLP', 'CNN', 'Tensorflow', 'Keras', 'Theano'],\n",
    "        'GCP': ['GCP'],\n",
    "        'Jason': ['Jason'],\n",
    "        'xml': ['xml'],\n",
    "        'Azure': ['Azure'],\n",
    "        'Google Cloud': ['Google Cloud'],\n",
    "        'Mathematics': ['Mathematics'],\n",
    "        'IBM': ['IBM'],\n",
    "        'Algebra': ['Algebra'],\n",
    "        'Statistics' :  ['Statistics'],\n",
    "        'Operations research': ['Operations research'],\n",
    "        'DevOps': ['DevOps', 'TDD', 'test-driven'],\n",
    "        'Git':['GitHub', 'Git', 'version control'],\n",
    "        # soft skills\n",
    "        'presentation' : ['communication', 'presentation'],\n",
    "        'management' : ['management', 'Data management'],\n",
    "        'agile' : ['agile'],\n",
    "        'SDLC' : ['SDLC', 'sdlc', 'software development', 'lifecycle'],\n",
    "        'decision making' : ['decision making', 'decision analysis'],\n",
    "        'problem solving': ['problem solving'],\n",
    "        'Team building': ['Team leadership', 'team building'],\n",
    "        'project_management': ['project management'],\n",
    "        'leadership': ['leadership'],\n",
    "        'consulting': ['consulting', 'consultant']\n",
    "    }"
   ]
  },
  {
   "cell_type": "markdown",
   "metadata": {},
   "source": [
    "#### Define a function `parse_skills`\n",
    "\n",
    "A function used to parse job info from previously scraped job pages. It extracts info from HTML of each job page and generates a DataFrame with results. Parsed DataFrame has all skill categories as columns (keys from the `skills_keywords_dict` defined above), and job postings as rows. Skills mentioned in each job posting are one-hot encoded, meaning that if a skill is mentioned within a job post, it is encoded as 1, otherwise it is encoded as 0. "
   ]
  },
  {
   "cell_type": "code",
   "execution_count": 5,
   "metadata": {},
   "outputs": [],
   "source": [
    "def parse_skills(scraping_results_dict, skills_keywords_dict):\n",
    "    \"\"\"\n",
    "    function to parse job info from previously scraped job pages\n",
    "    extracts info from HTML of each job page, saves it to the dictionary 'results_dict'\n",
    "    and then generates a DataFrame with results\n",
    "\n",
    "    Input arguments: scraping_results_dict -- dictionary -- contains 'link'--'HTML code'\n",
    "                                                            pairs of job postings\n",
    "                     skills_keywords_dict  -- dictionary -- contains skill categories and\n",
    "                                                            corresponding lists of keywords\n",
    "    \"\"\"\n",
    "    # dictionary that is used to store scraping results\n",
    "    # keys will be job links and values will become job posting features\n",
    "    results_dict = dict()\n",
    "    for link, job_html_text in scraping_results_dict.items():\n",
    "\n",
    "        # make a soup out of a job posting HTML code\n",
    "        soup_job = BeautifulSoup(job_html_text, 'lxml')\n",
    "\n",
    "        # create a new sub-dictionary in the 'results_dict' with the job link as key\n",
    "        results_dict[link] = {}\n",
    "\n",
    "        # extract job title from the job page\n",
    "        try:\n",
    "            results_dict[link]['job_title'] = soup_job.find_all('h3',\n",
    "                                                                {'class':\n",
    "                                            'icl-u-xs-mb--xs icl-u-xs-mt--none jobsearch-JobInfoHeader-title'})[0].text\n",
    "        except IndexError:\n",
    "            results_dict[link]['job_title'] = 'Not found'\n",
    "        # extract company name\n",
    "        try:\n",
    "            results_dict[link]['company_name'] = soup_job.find_all('div',\n",
    "                                                                   {'class': 'icl-u-lg-mr--sm icl-u-xs-mr--xs'})[0].text\n",
    "        except IndexError:\n",
    "            results_dict[link]['company_name'] = 'Not found'\n",
    "        # extract job location\n",
    "        try:\n",
    "            # get the part of the <div> tag containing location\n",
    "            # (\"MindGeek 47 reviews-Montréal, QC\" on top of a job posting page)\n",
    "            location_line = soup_job.find_all('div',\n",
    "                                              {'class':\n",
    "                     \"jobsearch-InlineCompanyRating icl-u-xs-mt--xs jobsearch-DesktopStickyContainer-companyrating\"})[0]\n",
    "            # convert the tag to string, split by '-', select the second element (contains job location)\n",
    "            results_dict[link]['job_location'] = location_line.text.split('-')[1]\n",
    "        except IndexError:\n",
    "            results_dict[link]['job_location'] = 'Not found'\n",
    "        # extract job description section\n",
    "        try:\n",
    "            results_dict[link]['job_description'] = soup_job.find_all('div',\n",
    "                                                                      {'class':\n",
    "                                                        'jobsearch-JobComponent-description icl-u-xs-mt--md'})[0].text\n",
    "        except IndexError:\n",
    "            results_dict[link]['job_description'] = 'Not found'\n",
    "        # extract date posted\n",
    "        try:\n",
    "            results_dict[link]['date'] = soup_job.find_all('div',\n",
    "                                                           {'class':\n",
    "                                                            'jobsearch-JobMetadataFooter'})[0].text.split(' - ')[1]\n",
    "        except IndexError:\n",
    "            results_dict[link]['date'] = 'Not found'\n",
    "\n",
    "        # search for the skills\n",
    "        soup_job_text = soup_job.text\n",
    "        for skill_category, skills in skills_keywords_dict.items():\n",
    "            category_found = 0   # variable used to store results of the intermediate check (loop below)\n",
    "\n",
    "            for skill in skills:        # loop over all skills in the sublist of 'skills_keywords_dict'\n",
    "                if soup_job_text.find(skill) != -1:     # if skill from the sublist is found, set 'category_found' to 1\n",
    "                    category_found = 1\n",
    "\n",
    "            results_dict[link][skill_category] = category_found   # skill set to 1 if found, 0 if not, in 'results_dict'\n",
    "    results_df = pd.DataFrame(results_dict).T.reset_index()\n",
    "    return results_df\n"
   ]
  },
  {
   "cell_type": "markdown",
   "metadata": {},
   "source": [
    "#### Parse job postings"
   ]
  },
  {
   "cell_type": "markdown",
   "metadata": {},
   "source": [
    "##### Parse the job postings with Managerial roles"
   ]
  },
  {
   "cell_type": "code",
   "execution_count": 107,
   "metadata": {},
   "outputs": [
    {
     "name": "stdout",
     "output_type": "stream",
     "text": [
      "888 records in the DataFrame\n",
      "Wall time: 27 s\n"
     ]
    }
   ],
   "source": [
    "%%time\n",
    "mng_results_df = parse_skills(mng_raw_series, skills_keywords_dict)\n",
    "print(\"{0} records in the DataFrame\".format(len(mng_results_df)))"
   ]
  },
  {
   "cell_type": "code",
   "execution_count": 108,
   "metadata": {},
   "outputs": [
    {
     "data": {
      "text/html": [
       "<div>\n",
       "<style scoped>\n",
       "    .dataframe tbody tr th:only-of-type {\n",
       "        vertical-align: middle;\n",
       "    }\n",
       "\n",
       "    .dataframe tbody tr th {\n",
       "        vertical-align: top;\n",
       "    }\n",
       "\n",
       "    .dataframe thead th {\n",
       "        text-align: right;\n",
       "    }\n",
       "</style>\n",
       "<table border=\"1\" class=\"dataframe\">\n",
       "  <thead>\n",
       "    <tr style=\"text-align: right;\">\n",
       "      <th></th>\n",
       "      <th>index</th>\n",
       "      <th>AWS Cloud</th>\n",
       "      <th>Algebra</th>\n",
       "      <th>Azure</th>\n",
       "      <th>Big Data</th>\n",
       "      <th>C/C++</th>\n",
       "      <th>Data Mining/Analytics</th>\n",
       "      <th>DevOps</th>\n",
       "      <th>Excel</th>\n",
       "      <th>GCP</th>\n",
       "      <th>...</th>\n",
       "      <th>decision making</th>\n",
       "      <th>job_description</th>\n",
       "      <th>job_location</th>\n",
       "      <th>job_title</th>\n",
       "      <th>leadership</th>\n",
       "      <th>management</th>\n",
       "      <th>presentation</th>\n",
       "      <th>problem solving</th>\n",
       "      <th>project_management</th>\n",
       "      <th>xml</th>\n",
       "    </tr>\n",
       "  </thead>\n",
       "  <tbody>\n",
       "    <tr>\n",
       "      <th>0</th>\n",
       "      <td>https://www.indeed.ca/pagead/clk?mo=r&amp;ad=-6NYl...</td>\n",
       "      <td>0</td>\n",
       "      <td>0</td>\n",
       "      <td>0</td>\n",
       "      <td>0</td>\n",
       "      <td>0</td>\n",
       "      <td>1</td>\n",
       "      <td>0</td>\n",
       "      <td>1</td>\n",
       "      <td>0</td>\n",
       "      <td>...</td>\n",
       "      <td>0</td>\n",
       "      <td>Brandon, MBWESTMAN COMMUNICATIONS GROUP is see...</td>\n",
       "      <td>Brandon, MB</td>\n",
       "      <td>MANAGEMENT INFORMATION SYSTEMS ANALYST</td>\n",
       "      <td>0</td>\n",
       "      <td>1</td>\n",
       "      <td>1</td>\n",
       "      <td>0</td>\n",
       "      <td>0</td>\n",
       "      <td>0</td>\n",
       "    </tr>\n",
       "    <tr>\n",
       "      <th>1</th>\n",
       "      <td>https://www.indeed.ca/pagead/clk?mo=r&amp;ad=-6NYl...</td>\n",
       "      <td>0</td>\n",
       "      <td>0</td>\n",
       "      <td>0</td>\n",
       "      <td>0</td>\n",
       "      <td>0</td>\n",
       "      <td>1</td>\n",
       "      <td>0</td>\n",
       "      <td>1</td>\n",
       "      <td>0</td>\n",
       "      <td>...</td>\n",
       "      <td>0</td>\n",
       "      <td>$90,000 - $120,000 a yearJob SummaryValues1. G...</td>\n",
       "      <td>Vancouver, BC</td>\n",
       "      <td>Growth Marketer &amp; Analytics</td>\n",
       "      <td>1</td>\n",
       "      <td>1</td>\n",
       "      <td>0</td>\n",
       "      <td>0</td>\n",
       "      <td>0</td>\n",
       "      <td>0</td>\n",
       "    </tr>\n",
       "    <tr>\n",
       "      <th>2</th>\n",
       "      <td>https://www.indeed.ca/pagead/clk?mo=r&amp;ad=-6NYl...</td>\n",
       "      <td>0</td>\n",
       "      <td>0</td>\n",
       "      <td>0</td>\n",
       "      <td>0</td>\n",
       "      <td>0</td>\n",
       "      <td>1</td>\n",
       "      <td>0</td>\n",
       "      <td>0</td>\n",
       "      <td>0</td>\n",
       "      <td>...</td>\n",
       "      <td>0</td>\n",
       "      <td>Toronto, ONWhy join us?\\nWe are looking for a ...</td>\n",
       "      <td>Toronto, ON</td>\n",
       "      <td>Director – Data Analytics &amp; Insights</td>\n",
       "      <td>0</td>\n",
       "      <td>1</td>\n",
       "      <td>0</td>\n",
       "      <td>0</td>\n",
       "      <td>0</td>\n",
       "      <td>0</td>\n",
       "    </tr>\n",
       "    <tr>\n",
       "      <th>3</th>\n",
       "      <td>https://www.indeed.ca/rc/clk?jk=0bcee6d714c4a9...</td>\n",
       "      <td>0</td>\n",
       "      <td>0</td>\n",
       "      <td>0</td>\n",
       "      <td>0</td>\n",
       "      <td>0</td>\n",
       "      <td>1</td>\n",
       "      <td>0</td>\n",
       "      <td>0</td>\n",
       "      <td>0</td>\n",
       "      <td>...</td>\n",
       "      <td>0</td>\n",
       "      <td>Toronto, ONWe’re on a mission to build the rel...</td>\n",
       "      <td>Toronto, ON</td>\n",
       "      <td>Consultant, Digital Strategy &amp; Analytics</td>\n",
       "      <td>0</td>\n",
       "      <td>0</td>\n",
       "      <td>1</td>\n",
       "      <td>0</td>\n",
       "      <td>0</td>\n",
       "      <td>0</td>\n",
       "    </tr>\n",
       "    <tr>\n",
       "      <th>4</th>\n",
       "      <td>https://www.indeed.ca/rc/clk?jk=842e9e8efa012f...</td>\n",
       "      <td>0</td>\n",
       "      <td>0</td>\n",
       "      <td>0</td>\n",
       "      <td>0</td>\n",
       "      <td>0</td>\n",
       "      <td>1</td>\n",
       "      <td>0</td>\n",
       "      <td>0</td>\n",
       "      <td>0</td>\n",
       "      <td>...</td>\n",
       "      <td>0</td>\n",
       "      <td>We’re on a mission to build the relationship-f...</td>\n",
       "      <td>Toronto, ON</td>\n",
       "      <td>Consultant, Google Analytics</td>\n",
       "      <td>0</td>\n",
       "      <td>1</td>\n",
       "      <td>0</td>\n",
       "      <td>0</td>\n",
       "      <td>0</td>\n",
       "      <td>0</td>\n",
       "    </tr>\n",
       "  </tbody>\n",
       "</table>\n",
       "<p>5 rows × 49 columns</p>\n",
       "</div>"
      ],
      "text/plain": [
       "                                               index AWS Cloud Algebra Azure  \\\n",
       "0  https://www.indeed.ca/pagead/clk?mo=r&ad=-6NYl...         0       0     0   \n",
       "1  https://www.indeed.ca/pagead/clk?mo=r&ad=-6NYl...         0       0     0   \n",
       "2  https://www.indeed.ca/pagead/clk?mo=r&ad=-6NYl...         0       0     0   \n",
       "3  https://www.indeed.ca/rc/clk?jk=0bcee6d714c4a9...         0       0     0   \n",
       "4  https://www.indeed.ca/rc/clk?jk=842e9e8efa012f...         0       0     0   \n",
       "\n",
       "  Big Data C/C++ Data Mining/Analytics DevOps Excel GCP ... decision making  \\\n",
       "0        0     0                     1      0     1   0 ...               0   \n",
       "1        0     0                     1      0     1   0 ...               0   \n",
       "2        0     0                     1      0     0   0 ...               0   \n",
       "3        0     0                     1      0     0   0 ...               0   \n",
       "4        0     0                     1      0     0   0 ...               0   \n",
       "\n",
       "                                     job_description   job_location  \\\n",
       "0  Brandon, MBWESTMAN COMMUNICATIONS GROUP is see...    Brandon, MB   \n",
       "1  $90,000 - $120,000 a yearJob SummaryValues1. G...  Vancouver, BC   \n",
       "2  Toronto, ONWhy join us?\\nWe are looking for a ...    Toronto, ON   \n",
       "3  Toronto, ONWe’re on a mission to build the rel...    Toronto, ON   \n",
       "4  We’re on a mission to build the relationship-f...    Toronto, ON   \n",
       "\n",
       "                                  job_title leadership management  \\\n",
       "0    MANAGEMENT INFORMATION SYSTEMS ANALYST          0          1   \n",
       "1               Growth Marketer & Analytics          1          1   \n",
       "2      Director – Data Analytics & Insights          0          1   \n",
       "3  Consultant, Digital Strategy & Analytics          0          0   \n",
       "4              Consultant, Google Analytics          0          1   \n",
       "\n",
       "  presentation problem solving project_management xml  \n",
       "0            1               0                  0   0  \n",
       "1            0               0                  0   0  \n",
       "2            0               0                  0   0  \n",
       "3            1               0                  0   0  \n",
       "4            0               0                  0   0  \n",
       "\n",
       "[5 rows x 49 columns]"
      ]
     },
     "execution_count": 108,
     "metadata": {},
     "output_type": "execute_result"
    }
   ],
   "source": [
    "mng_results_df.head()"
   ]
  },
  {
   "cell_type": "code",
   "execution_count": 109,
   "metadata": {},
   "outputs": [
    {
     "name": "stdout",
     "output_type": "stream",
     "text": [
      "4030 records in the DataFrame\n",
      "Wall time: 2min 10s\n"
     ]
    }
   ],
   "source": [
    "%%time\n",
    "mng_results_df_1000 = parse_skills(mng_raw_series_1000, skills_keywords_dict)\n",
    "print(\"{0} records in the DataFrame\".format(len(mng_results_df_1000)))"
   ]
  },
  {
   "cell_type": "code",
   "execution_count": 110,
   "metadata": {
    "scrolled": false
   },
   "outputs": [
    {
     "data": {
      "text/html": [
       "<div>\n",
       "<style scoped>\n",
       "    .dataframe tbody tr th:only-of-type {\n",
       "        vertical-align: middle;\n",
       "    }\n",
       "\n",
       "    .dataframe tbody tr th {\n",
       "        vertical-align: top;\n",
       "    }\n",
       "\n",
       "    .dataframe thead th {\n",
       "        text-align: right;\n",
       "    }\n",
       "</style>\n",
       "<table border=\"1\" class=\"dataframe\">\n",
       "  <thead>\n",
       "    <tr style=\"text-align: right;\">\n",
       "      <th></th>\n",
       "      <th>index</th>\n",
       "      <th>AWS Cloud</th>\n",
       "      <th>Algebra</th>\n",
       "      <th>Azure</th>\n",
       "      <th>Big Data</th>\n",
       "      <th>C/C++</th>\n",
       "      <th>Data Mining/Analytics</th>\n",
       "      <th>DevOps</th>\n",
       "      <th>Excel</th>\n",
       "      <th>GCP</th>\n",
       "      <th>...</th>\n",
       "      <th>decision making</th>\n",
       "      <th>job_description</th>\n",
       "      <th>job_location</th>\n",
       "      <th>job_title</th>\n",
       "      <th>leadership</th>\n",
       "      <th>management</th>\n",
       "      <th>presentation</th>\n",
       "      <th>problem solving</th>\n",
       "      <th>project_management</th>\n",
       "      <th>xml</th>\n",
       "    </tr>\n",
       "  </thead>\n",
       "  <tbody>\n",
       "    <tr>\n",
       "      <th>0</th>\n",
       "      <td>https://www.indeed.ca/pagead/clk?mo=r&amp;ad=-6NYl...</td>\n",
       "      <td>0</td>\n",
       "      <td>0</td>\n",
       "      <td>0</td>\n",
       "      <td>0</td>\n",
       "      <td>0</td>\n",
       "      <td>1</td>\n",
       "      <td>0</td>\n",
       "      <td>1</td>\n",
       "      <td>0</td>\n",
       "      <td>...</td>\n",
       "      <td>0</td>\n",
       "      <td>$90,000 - $120,000 a yearJob SummaryValues1. G...</td>\n",
       "      <td>Vancouver, BC</td>\n",
       "      <td>Growth Marketer &amp; Analytics</td>\n",
       "      <td>1</td>\n",
       "      <td>1</td>\n",
       "      <td>0</td>\n",
       "      <td>0</td>\n",
       "      <td>0</td>\n",
       "      <td>0</td>\n",
       "    </tr>\n",
       "  </tbody>\n",
       "</table>\n",
       "<p>1 rows × 49 columns</p>\n",
       "</div>"
      ],
      "text/plain": [
       "                                               index AWS Cloud Algebra Azure  \\\n",
       "0  https://www.indeed.ca/pagead/clk?mo=r&ad=-6NYl...         0       0     0   \n",
       "\n",
       "  Big Data C/C++ Data Mining/Analytics DevOps Excel GCP ... decision making  \\\n",
       "0        0     0                     1      0     1   0 ...               0   \n",
       "\n",
       "                                     job_description   job_location  \\\n",
       "0  $90,000 - $120,000 a yearJob SummaryValues1. G...  Vancouver, BC   \n",
       "\n",
       "                     job_title leadership management presentation  \\\n",
       "0  Growth Marketer & Analytics          1          1            0   \n",
       "\n",
       "  problem solving project_management xml  \n",
       "0               0                  0   0  \n",
       "\n",
       "[1 rows x 49 columns]"
      ]
     },
     "execution_count": 110,
     "metadata": {},
     "output_type": "execute_result"
    }
   ],
   "source": [
    "mng_results_df_1000.head(1)"
   ]
  },
  {
   "cell_type": "markdown",
   "metadata": {},
   "source": [
    "##### Parse the job postings with Technical roles"
   ]
  },
  {
   "cell_type": "code",
   "execution_count": 111,
   "metadata": {},
   "outputs": [
    {
     "name": "stdout",
     "output_type": "stream",
     "text": [
      "437 records in the DataFrame\n",
      "Wall time: 20.1 s\n"
     ]
    }
   ],
   "source": [
    "%%time\n",
    "tech_results_df = parse_skills(tech_raw_series, skills_keywords_dict)\n",
    "print(\"{0} records in the DataFrame\".format(len(tech_results_df)))"
   ]
  },
  {
   "cell_type": "code",
   "execution_count": 112,
   "metadata": {},
   "outputs": [
    {
     "data": {
      "text/html": [
       "<div>\n",
       "<style scoped>\n",
       "    .dataframe tbody tr th:only-of-type {\n",
       "        vertical-align: middle;\n",
       "    }\n",
       "\n",
       "    .dataframe tbody tr th {\n",
       "        vertical-align: top;\n",
       "    }\n",
       "\n",
       "    .dataframe thead th {\n",
       "        text-align: right;\n",
       "    }\n",
       "</style>\n",
       "<table border=\"1\" class=\"dataframe\">\n",
       "  <thead>\n",
       "    <tr style=\"text-align: right;\">\n",
       "      <th></th>\n",
       "      <th>index</th>\n",
       "      <th>AWS Cloud</th>\n",
       "      <th>Algebra</th>\n",
       "      <th>Azure</th>\n",
       "      <th>Big Data</th>\n",
       "      <th>C/C++</th>\n",
       "      <th>Data Mining/Analytics</th>\n",
       "      <th>DevOps</th>\n",
       "      <th>Excel</th>\n",
       "      <th>GCP</th>\n",
       "      <th>...</th>\n",
       "      <th>decision making</th>\n",
       "      <th>job_description</th>\n",
       "      <th>job_location</th>\n",
       "      <th>job_title</th>\n",
       "      <th>leadership</th>\n",
       "      <th>management</th>\n",
       "      <th>presentation</th>\n",
       "      <th>problem solving</th>\n",
       "      <th>project_management</th>\n",
       "      <th>xml</th>\n",
       "    </tr>\n",
       "  </thead>\n",
       "  <tbody>\n",
       "    <tr>\n",
       "      <th>0</th>\n",
       "      <td>https://www.indeed.ca/pagead/clk?mo=r&amp;ad=-6NYl...</td>\n",
       "      <td>0</td>\n",
       "      <td>0</td>\n",
       "      <td>0</td>\n",
       "      <td>0</td>\n",
       "      <td>0</td>\n",
       "      <td>0</td>\n",
       "      <td>0</td>\n",
       "      <td>0</td>\n",
       "      <td>0</td>\n",
       "      <td>...</td>\n",
       "      <td>0</td>\n",
       "      <td>Are you passionate about getting high-quality ...</td>\n",
       "      <td>Burnaby, BC</td>\n",
       "      <td>Data QA Analyst</td>\n",
       "      <td>0</td>\n",
       "      <td>1</td>\n",
       "      <td>1</td>\n",
       "      <td>0</td>\n",
       "      <td>0</td>\n",
       "      <td>0</td>\n",
       "    </tr>\n",
       "    <tr>\n",
       "      <th>1</th>\n",
       "      <td>https://www.indeed.ca/pagead/clk?mo=r&amp;ad=-6NYl...</td>\n",
       "      <td>0</td>\n",
       "      <td>0</td>\n",
       "      <td>0</td>\n",
       "      <td>0</td>\n",
       "      <td>0</td>\n",
       "      <td>0</td>\n",
       "      <td>0</td>\n",
       "      <td>0</td>\n",
       "      <td>0</td>\n",
       "      <td>...</td>\n",
       "      <td>0</td>\n",
       "      <td>SPORTLOGiQ is a computer vision technology com...</td>\n",
       "      <td>Montréal, QC</td>\n",
       "      <td>Data Analyst</td>\n",
       "      <td>0</td>\n",
       "      <td>0</td>\n",
       "      <td>0</td>\n",
       "      <td>0</td>\n",
       "      <td>0</td>\n",
       "      <td>0</td>\n",
       "    </tr>\n",
       "    <tr>\n",
       "      <th>2</th>\n",
       "      <td>https://www.indeed.ca/pagead/clk?mo=r&amp;ad=-6NYl...</td>\n",
       "      <td>0</td>\n",
       "      <td>0</td>\n",
       "      <td>0</td>\n",
       "      <td>0</td>\n",
       "      <td>0</td>\n",
       "      <td>0</td>\n",
       "      <td>0</td>\n",
       "      <td>0</td>\n",
       "      <td>0</td>\n",
       "      <td>...</td>\n",
       "      <td>0</td>\n",
       "      <td>SPORTLOGiQ is a computer vision technology com...</td>\n",
       "      <td>Montréal, QC</td>\n",
       "      <td>Sports Data Analyst - American Football</td>\n",
       "      <td>0</td>\n",
       "      <td>0</td>\n",
       "      <td>0</td>\n",
       "      <td>0</td>\n",
       "      <td>0</td>\n",
       "      <td>0</td>\n",
       "    </tr>\n",
       "    <tr>\n",
       "      <th>3</th>\n",
       "      <td>https://www.indeed.ca/rc/clk?jk=e17ea7cb712950...</td>\n",
       "      <td>0</td>\n",
       "      <td>0</td>\n",
       "      <td>0</td>\n",
       "      <td>0</td>\n",
       "      <td>0</td>\n",
       "      <td>1</td>\n",
       "      <td>0</td>\n",
       "      <td>0</td>\n",
       "      <td>0</td>\n",
       "      <td>...</td>\n",
       "      <td>0</td>\n",
       "      <td>Tell us your story. Don't go unnoticed. Explai...</td>\n",
       "      <td>London, ON</td>\n",
       "      <td>IT Data Analyst III</td>\n",
       "      <td>0</td>\n",
       "      <td>0</td>\n",
       "      <td>0</td>\n",
       "      <td>0</td>\n",
       "      <td>0</td>\n",
       "      <td>0</td>\n",
       "    </tr>\n",
       "    <tr>\n",
       "      <th>4</th>\n",
       "      <td>https://www.indeed.ca/rc/clk?jk=ea14c1de251858...</td>\n",
       "      <td>0</td>\n",
       "      <td>0</td>\n",
       "      <td>0</td>\n",
       "      <td>0</td>\n",
       "      <td>0</td>\n",
       "      <td>0</td>\n",
       "      <td>0</td>\n",
       "      <td>0</td>\n",
       "      <td>0</td>\n",
       "      <td>...</td>\n",
       "      <td>0</td>\n",
       "      <td>Tell us your story. Don't go unnoticed. Explai...</td>\n",
       "      <td>Toronto, ON</td>\n",
       "      <td>Portfolio Data Analyst</td>\n",
       "      <td>0</td>\n",
       "      <td>0</td>\n",
       "      <td>0</td>\n",
       "      <td>0</td>\n",
       "      <td>0</td>\n",
       "      <td>0</td>\n",
       "    </tr>\n",
       "  </tbody>\n",
       "</table>\n",
       "<p>5 rows × 49 columns</p>\n",
       "</div>"
      ],
      "text/plain": [
       "                                               index AWS Cloud Algebra Azure  \\\n",
       "0  https://www.indeed.ca/pagead/clk?mo=r&ad=-6NYl...         0       0     0   \n",
       "1  https://www.indeed.ca/pagead/clk?mo=r&ad=-6NYl...         0       0     0   \n",
       "2  https://www.indeed.ca/pagead/clk?mo=r&ad=-6NYl...         0       0     0   \n",
       "3  https://www.indeed.ca/rc/clk?jk=e17ea7cb712950...         0       0     0   \n",
       "4  https://www.indeed.ca/rc/clk?jk=ea14c1de251858...         0       0     0   \n",
       "\n",
       "  Big Data C/C++ Data Mining/Analytics DevOps Excel GCP ... decision making  \\\n",
       "0        0     0                     0      0     0   0 ...               0   \n",
       "1        0     0                     0      0     0   0 ...               0   \n",
       "2        0     0                     0      0     0   0 ...               0   \n",
       "3        0     0                     1      0     0   0 ...               0   \n",
       "4        0     0                     0      0     0   0 ...               0   \n",
       "\n",
       "                                     job_description  job_location  \\\n",
       "0  Are you passionate about getting high-quality ...   Burnaby, BC   \n",
       "1  SPORTLOGiQ is a computer vision technology com...  Montréal, QC   \n",
       "2  SPORTLOGiQ is a computer vision technology com...  Montréal, QC   \n",
       "3  Tell us your story. Don't go unnoticed. Explai...    London, ON   \n",
       "4  Tell us your story. Don't go unnoticed. Explai...   Toronto, ON   \n",
       "\n",
       "                                 job_title leadership management presentation  \\\n",
       "0                          Data QA Analyst          0          1            1   \n",
       "1                             Data Analyst          0          0            0   \n",
       "2  Sports Data Analyst - American Football          0          0            0   \n",
       "3                      IT Data Analyst III          0          0            0   \n",
       "4                   Portfolio Data Analyst          0          0            0   \n",
       "\n",
       "  problem solving project_management xml  \n",
       "0               0                  0   0  \n",
       "1               0                  0   0  \n",
       "2               0                  0   0  \n",
       "3               0                  0   0  \n",
       "4               0                  0   0  \n",
       "\n",
       "[5 rows x 49 columns]"
      ]
     },
     "execution_count": 112,
     "metadata": {},
     "output_type": "execute_result"
    }
   ],
   "source": [
    "tech_results_df.head()"
   ]
  },
  {
   "cell_type": "code",
   "execution_count": 113,
   "metadata": {},
   "outputs": [
    {
     "name": "stdout",
     "output_type": "stream",
     "text": [
      "1961 records in the DataFrame\n",
      "Wall time: 58.5 s\n"
     ]
    }
   ],
   "source": [
    "%%time\n",
    "tech_results_df_1000 = parse_skills(tech_raw_series_1000, skills_keywords_dict)\n",
    "print(\"{0} records in the DataFrame\".format(len(tech_results_df_1000)))"
   ]
  },
  {
   "cell_type": "code",
   "execution_count": 114,
   "metadata": {},
   "outputs": [
    {
     "data": {
      "text/html": [
       "<div>\n",
       "<style scoped>\n",
       "    .dataframe tbody tr th:only-of-type {\n",
       "        vertical-align: middle;\n",
       "    }\n",
       "\n",
       "    .dataframe tbody tr th {\n",
       "        vertical-align: top;\n",
       "    }\n",
       "\n",
       "    .dataframe thead th {\n",
       "        text-align: right;\n",
       "    }\n",
       "</style>\n",
       "<table border=\"1\" class=\"dataframe\">\n",
       "  <thead>\n",
       "    <tr style=\"text-align: right;\">\n",
       "      <th></th>\n",
       "      <th>index</th>\n",
       "      <th>AWS Cloud</th>\n",
       "      <th>Algebra</th>\n",
       "      <th>Azure</th>\n",
       "      <th>Big Data</th>\n",
       "      <th>C/C++</th>\n",
       "      <th>Data Mining/Analytics</th>\n",
       "      <th>DevOps</th>\n",
       "      <th>Excel</th>\n",
       "      <th>GCP</th>\n",
       "      <th>...</th>\n",
       "      <th>decision making</th>\n",
       "      <th>job_description</th>\n",
       "      <th>job_location</th>\n",
       "      <th>job_title</th>\n",
       "      <th>leadership</th>\n",
       "      <th>management</th>\n",
       "      <th>presentation</th>\n",
       "      <th>problem solving</th>\n",
       "      <th>project_management</th>\n",
       "      <th>xml</th>\n",
       "    </tr>\n",
       "  </thead>\n",
       "  <tbody>\n",
       "    <tr>\n",
       "      <th>0</th>\n",
       "      <td>https://www.indeed.ca/pagead/clk?mo=r&amp;ad=-6NYl...</td>\n",
       "      <td>0</td>\n",
       "      <td>0</td>\n",
       "      <td>0</td>\n",
       "      <td>0</td>\n",
       "      <td>0</td>\n",
       "      <td>0</td>\n",
       "      <td>0</td>\n",
       "      <td>0</td>\n",
       "      <td>0</td>\n",
       "      <td>...</td>\n",
       "      <td>0</td>\n",
       "      <td>Are you passionate about getting high-quality ...</td>\n",
       "      <td>Burnaby, BC</td>\n",
       "      <td>Data QA Analyst</td>\n",
       "      <td>0</td>\n",
       "      <td>1</td>\n",
       "      <td>1</td>\n",
       "      <td>0</td>\n",
       "      <td>0</td>\n",
       "      <td>0</td>\n",
       "    </tr>\n",
       "  </tbody>\n",
       "</table>\n",
       "<p>1 rows × 49 columns</p>\n",
       "</div>"
      ],
      "text/plain": [
       "                                               index AWS Cloud Algebra Azure  \\\n",
       "0  https://www.indeed.ca/pagead/clk?mo=r&ad=-6NYl...         0       0     0   \n",
       "\n",
       "  Big Data C/C++ Data Mining/Analytics DevOps Excel GCP ... decision making  \\\n",
       "0        0     0                     0      0     0   0 ...               0   \n",
       "\n",
       "                                     job_description job_location  \\\n",
       "0  Are you passionate about getting high-quality ...  Burnaby, BC   \n",
       "\n",
       "         job_title leadership management presentation problem solving  \\\n",
       "0  Data QA Analyst          0          1            1               0   \n",
       "\n",
       "  project_management xml  \n",
       "0                  0   0  \n",
       "\n",
       "[1 rows x 49 columns]"
      ]
     },
     "execution_count": 114,
     "metadata": {},
     "output_type": "execute_result"
    }
   ],
   "source": [
    "tech_results_df_1000.head(1)"
   ]
  },
  {
   "cell_type": "markdown",
   "metadata": {},
   "source": [
    "### Cleaning parsed job posting data\n",
    "\n",
    "Another duplicate check needs to be performed, since the original check was running over full HTML pages. Duplicate job postings could still be left in the dataset if they have any difference in HTML elements of their posts, such as advertisment tags.\n",
    "\n",
    "If a duplicate check is performed using `'all columns'` as match criteria, no duplicates are found:"
   ]
  },
  {
   "cell_type": "code",
   "execution_count": 115,
   "metadata": {},
   "outputs": [
    {
     "data": {
      "text/plain": [
       "0"
      ]
     },
     "execution_count": 115,
     "metadata": {},
     "output_type": "execute_result"
    }
   ],
   "source": [
    "sum(mng_results_df.duplicated())"
   ]
  },
  {
   "cell_type": "code",
   "execution_count": 116,
   "metadata": {},
   "outputs": [
    {
     "data": {
      "text/plain": [
       "0"
      ]
     },
     "execution_count": 116,
     "metadata": {},
     "output_type": "execute_result"
    }
   ],
   "source": [
    "sum(tech_results_df.duplicated())"
   ]
  },
  {
   "cell_type": "code",
   "execution_count": 117,
   "metadata": {},
   "outputs": [
    {
     "data": {
      "text/plain": [
       "0"
      ]
     },
     "execution_count": 117,
     "metadata": {},
     "output_type": "execute_result"
    }
   ],
   "source": [
    "sum(mng_results_df_1000.duplicated())"
   ]
  },
  {
   "cell_type": "code",
   "execution_count": 118,
   "metadata": {},
   "outputs": [
    {
     "data": {
      "text/plain": [
       "0"
      ]
     },
     "execution_count": 118,
     "metadata": {},
     "output_type": "execute_result"
    }
   ],
   "source": [
    "sum(tech_results_df_1000.duplicated())"
   ]
  },
  {
   "cell_type": "markdown",
   "metadata": {},
   "source": [
    "**However,** if the link address is removed from the match criteria, duplicate check finds many results: "
   ]
  },
  {
   "cell_type": "code",
   "execution_count": 119,
   "metadata": {},
   "outputs": [
    {
     "data": {
      "text/plain": [
       "211"
      ]
     },
     "execution_count": 119,
     "metadata": {},
     "output_type": "execute_result"
    }
   ],
   "source": [
    "sum(mng_results_df.duplicated(subset=mng_results_df.drop('index', axis=1).columns))"
   ]
  },
  {
   "cell_type": "code",
   "execution_count": 120,
   "metadata": {},
   "outputs": [
    {
     "data": {
      "text/plain": [
       "93"
      ]
     },
     "execution_count": 120,
     "metadata": {},
     "output_type": "execute_result"
    }
   ],
   "source": [
    "sum(tech_results_df.duplicated(subset=tech_results_df.drop('index', axis=1).columns))"
   ]
  },
  {
   "cell_type": "code",
   "execution_count": 121,
   "metadata": {},
   "outputs": [
    {
     "data": {
      "text/plain": [
       "1224"
      ]
     },
     "execution_count": 121,
     "metadata": {},
     "output_type": "execute_result"
    }
   ],
   "source": [
    "sum(mng_results_df_1000.duplicated(subset=mng_results_df.drop('index', axis=1).columns))"
   ]
  },
  {
   "cell_type": "code",
   "execution_count": 122,
   "metadata": {},
   "outputs": [
    {
     "data": {
      "text/plain": [
       "509"
      ]
     },
     "execution_count": 122,
     "metadata": {},
     "output_type": "execute_result"
    }
   ],
   "source": [
    "sum(tech_results_df_1000.duplicated(subset=tech_results_df.drop('index', axis=1).columns))"
   ]
  },
  {
   "cell_type": "markdown",
   "metadata": {},
   "source": [
    "**Removing duplicate entries**"
   ]
  },
  {
   "cell_type": "code",
   "execution_count": 123,
   "metadata": {},
   "outputs": [],
   "source": [
    "mng_results_df = mng_results_df.drop_duplicates(subset=mng_results_df.drop('index', axis=1).columns)\n",
    "mng_results_df_1000 = mng_results_df_1000\\\n",
    "    .drop_duplicates(subset=mng_results_df_1000.drop('index', axis=1).columns)\n",
    "tech_results_df = tech_results_df.drop_duplicates(subset=tech_results_df.drop('index', axis=1).columns)\n",
    "tech_results_df_1000 = tech_results_df_1000\\\n",
    "    .drop_duplicates(subset=tech_results_df_1000.drop('index', axis=1).columns)"
   ]
  },
  {
   "cell_type": "code",
   "execution_count": 124,
   "metadata": {},
   "outputs": [
    {
     "data": {
      "text/plain": [
       "0"
      ]
     },
     "execution_count": 124,
     "metadata": {},
     "output_type": "execute_result"
    }
   ],
   "source": [
    "sum(mng_results_df.duplicated(subset=mng_results_df.drop('index', axis=1).columns))"
   ]
  },
  {
   "cell_type": "code",
   "execution_count": 125,
   "metadata": {},
   "outputs": [
    {
     "data": {
      "text/plain": [
       "0"
      ]
     },
     "execution_count": 125,
     "metadata": {},
     "output_type": "execute_result"
    }
   ],
   "source": [
    "sum(tech_results_df.duplicated(subset=tech_results_df.drop('index', axis=1).columns))"
   ]
  },
  {
   "cell_type": "code",
   "execution_count": 126,
   "metadata": {},
   "outputs": [
    {
     "data": {
      "text/plain": [
       "0"
      ]
     },
     "execution_count": 126,
     "metadata": {},
     "output_type": "execute_result"
    }
   ],
   "source": [
    "sum(mng_results_df_1000.duplicated(subset=mng_results_df.drop('index', axis=1).columns))"
   ]
  },
  {
   "cell_type": "code",
   "execution_count": 127,
   "metadata": {},
   "outputs": [
    {
     "data": {
      "text/plain": [
       "0"
      ]
     },
     "execution_count": 127,
     "metadata": {},
     "output_type": "execute_result"
    }
   ],
   "source": [
    "sum(tech_results_df_1000.duplicated(subset=tech_results_df.drop('index', axis=1).columns))"
   ]
  },
  {
   "cell_type": "markdown",
   "metadata": {},
   "source": [
    "### Exploratory Data Analysis (EDA) of the scraped Indeed.ca job postings"
   ]
  },
  {
   "cell_type": "markdown",
   "metadata": {},
   "source": [
    "#### Define a function `plot_bars_with_minmax`\n",
    "\n",
    "A function used to plot bar chars with proper axes labeling."
   ]
  },
  {
   "cell_type": "code",
   "execution_count": 128,
   "metadata": {},
   "outputs": [],
   "source": [
    "def plot_bars_with_minmax(series_to_plot, plot_title, horizontal=False, color='gray',\n",
    "                          fig_height=5, fig_width=8,\n",
    "                          font_color='darkblue',\n",
    "                          xlabel=\"\", ylabel=\"\", tick_label_size=16,\n",
    "                          with_minmax=True, with_mean=True,\n",
    "                          min_border=0.95, max_border=0.99, minmax_width=0.5,\n",
    "                          sup_line=None):\n",
    "    \"\"\"\n",
    "    a function to plot a gray bar chart from a pandas Series,\n",
    "    plots mean\n",
    "    highlights bars with min and max values\n",
    "\n",
    "    Input arguments: series_to_plot -- pandas Series -- Series to plot as a bar chart\n",
    "                     title          -- string        -- string containing title of the chart\n",
    "                     with_minmax    -- boolean       -- option to highlight extreme values\n",
    "                                                        from the Series (default=True)\n",
    "                     min_border     -- float         -- height limit for black min bar on the plot\n",
    "                                                        (default=0.95)\n",
    "                     max_border     -- float         -- height limit for lightgray max bar on the plot\n",
    "                                                        (default=0.99)\n",
    "                     minmax_width   -- float         -- width for min and max bars on the plot\n",
    "                                                        (default=0.5)\n",
    "\n",
    "\n",
    "    Output:          None, plots and shows bar chart with mean and extremes (optional) highlighted\n",
    "    \"\"\"\n",
    "    font = dict(family='serif', color=font_color, weight='normal', size=16)\n",
    "\n",
    "    # create figure and axis\n",
    "    fig, ax = plt.subplots(1, figsize=(fig_width, fig_height))\n",
    "\n",
    "    if horizontal:\n",
    "        # plot a horizontal bar chart from input Series\n",
    "        sns.barplot(x=series_to_plot, y=series_to_plot.index, color=color, ax=ax)\n",
    "        if with_mean:\n",
    "            # plot mean of the series\n",
    "            ax.axvline(series_to_plot.mean(), color='black', linestyle='--', linewidth=1)\n",
    "            ax.text(series_to_plot.mean() * 1.05,\n",
    "                    0,\n",
    "                    \"Mean: {0:.2f}\".format(series_to_plot.mean()),\n",
    "                    fontsize=16)\n",
    "        if sup_line:\n",
    "            ax.axhline(sup_line, color='black', linestyle='--', linewidth=1)\n",
    "        # optional: highlight the bars with minimum values (if input parameter 'with_min' is True)\n",
    "        if with_minmax:\n",
    "            min_se = series_to_plot[series_to_plot == series_to_plot.min()]\n",
    "            #plt.barh(min_se.index,\n",
    "            #         min_se * min_border,\n",
    "            #         minmax_width,\n",
    "            #         color='black')\n",
    "            sns.barplot(x=min_se * min_border, y=min_se.index, color='black', alpha=0.8, ax=ax)\n",
    "\n",
    "            max_se = series_to_plot[series_to_plot == series_to_plot.max()]\n",
    "            sns.barplot(x=max_se * max_border, y=max_se.index, color='lightgray', ax=ax)\n",
    "\n",
    "            #plt.barh(max_se.index,\n",
    "            #         max_se * max_border,\n",
    "            #         minmax_width,\n",
    "            #         color='lightgray')\n",
    "        # set axis parameters\n",
    "        ax.set_xlabel(xlabel, fontdict=font)\n",
    "        ax.set_ylabel(ylabel, fontdict=font)\n",
    "        #ax.tick_params('both', labelrotation=1, labelsize=tick_label_size)\n",
    "\n",
    "    else:\n",
    "        # plot a bar chart from input Series\n",
    "        plt.bar(x=series_to_plot.index,\n",
    "                height=series_to_plot,\n",
    "                color=color)\n",
    "\n",
    "        if with_mean:\n",
    "            # plot mean of the series\n",
    "            ax.axhline(series_to_plot.mean(), color='black', linestyle='--', linewidth=1)\n",
    "            ax.text(0,\n",
    "                    series_to_plot.mean() * 1.01,\n",
    "                    \"Mean: {0:.2f}\".format(series_to_plot.mean()))\n",
    "\n",
    "        # optional: highlight the bars with minimum values (if input parameter 'with_min' is True)\n",
    "        if with_minmax:\n",
    "            min_se = series_to_plot[series_to_plot == series_to_plot.min()]\n",
    "            plt.bar(x=min_se.index,\n",
    "                    height=min_se * min_border,\n",
    "                    color='black',\n",
    "                    width=minmax_width)\n",
    "            max_se = series_to_plot[series_to_plot == series_to_plot.max()]\n",
    "            plt.bar(x=max_se.index,\n",
    "                    height=max_se * max_border,\n",
    "                    color='lightgray',\n",
    "                    width=minmax_width)\n",
    "        if sup_line:\n",
    "            ax.axvline(sup_line, color='black', linestyle='--', linewidth=1)\n",
    "        # set axis parameters\n",
    "        ax.set_xlabel(xlabel, fontdict=font)\n",
    "        ax.set_xticks(series_to_plot.index)\n",
    "        ax.set_ylabel(ylabel, fontdict=font)\n",
    "        #ax.tick_params('both', labelrotation=1, labelsize=tick_label_size)\n",
    "\n",
    "    # set general axis parameters\n",
    "    ax.set_title(plot_title, fontdict=font)\n",
    "    ax.grid(False)\n",
    "\n",
    "    plt.show()\n",
    "    return\n"
   ]
  },
  {
   "cell_type": "markdown",
   "metadata": {},
   "source": [
    "#### Reordering columns for better display\n",
    "\n",
    "`'job_title'` and `'company_name'` are moved to the front, `'job_description'` and `'index'` (contains URL) are removed."
   ]
  },
  {
   "cell_type": "markdown",
   "metadata": {},
   "source": [
    "##### Managerial roles"
   ]
  },
  {
   "cell_type": "code",
   "execution_count": 129,
   "metadata": {},
   "outputs": [
    {
     "data": {
      "text/html": [
       "<div>\n",
       "<style scoped>\n",
       "    .dataframe tbody tr th:only-of-type {\n",
       "        vertical-align: middle;\n",
       "    }\n",
       "\n",
       "    .dataframe tbody tr th {\n",
       "        vertical-align: top;\n",
       "    }\n",
       "\n",
       "    .dataframe thead th {\n",
       "        text-align: right;\n",
       "    }\n",
       "</style>\n",
       "<table border=\"1\" class=\"dataframe\">\n",
       "  <thead>\n",
       "    <tr style=\"text-align: right;\">\n",
       "      <th></th>\n",
       "      <th>job_title</th>\n",
       "      <th>company_name</th>\n",
       "      <th>job_location</th>\n",
       "      <th>date</th>\n",
       "      <th>job_description</th>\n",
       "      <th>AWS Cloud</th>\n",
       "      <th>Algebra</th>\n",
       "      <th>Azure</th>\n",
       "      <th>Big Data</th>\n",
       "      <th>C/C++</th>\n",
       "      <th>...</th>\n",
       "      <th>Visualisation</th>\n",
       "      <th>agile</th>\n",
       "      <th>consulting</th>\n",
       "      <th>decision making</th>\n",
       "      <th>leadership</th>\n",
       "      <th>management</th>\n",
       "      <th>presentation</th>\n",
       "      <th>problem solving</th>\n",
       "      <th>project_management</th>\n",
       "      <th>xml</th>\n",
       "    </tr>\n",
       "  </thead>\n",
       "  <tbody>\n",
       "    <tr>\n",
       "      <th>0</th>\n",
       "      <td>MANAGEMENT INFORMATION SYSTEMS ANALYST</td>\n",
       "      <td>Westman Communications Group</td>\n",
       "      <td>Brandon, MB</td>\n",
       "      <td>save job</td>\n",
       "      <td>Brandon, MBWESTMAN COMMUNICATIONS GROUP is see...</td>\n",
       "      <td>0</td>\n",
       "      <td>0</td>\n",
       "      <td>0</td>\n",
       "      <td>0</td>\n",
       "      <td>0</td>\n",
       "      <td>...</td>\n",
       "      <td>0</td>\n",
       "      <td>0</td>\n",
       "      <td>0</td>\n",
       "      <td>0</td>\n",
       "      <td>0</td>\n",
       "      <td>1</td>\n",
       "      <td>1</td>\n",
       "      <td>0</td>\n",
       "      <td>0</td>\n",
       "      <td>0</td>\n",
       "    </tr>\n",
       "    <tr>\n",
       "      <th>1</th>\n",
       "      <td>Growth Marketer &amp; Analytics</td>\n",
       "      <td>Blume</td>\n",
       "      <td>Vancouver, BC</td>\n",
       "      <td>save job</td>\n",
       "      <td>$90,000 - $120,000 a yearJob SummaryValues1. G...</td>\n",
       "      <td>0</td>\n",
       "      <td>0</td>\n",
       "      <td>0</td>\n",
       "      <td>0</td>\n",
       "      <td>0</td>\n",
       "      <td>...</td>\n",
       "      <td>0</td>\n",
       "      <td>0</td>\n",
       "      <td>1</td>\n",
       "      <td>0</td>\n",
       "      <td>1</td>\n",
       "      <td>1</td>\n",
       "      <td>0</td>\n",
       "      <td>0</td>\n",
       "      <td>0</td>\n",
       "      <td>0</td>\n",
       "    </tr>\n",
       "    <tr>\n",
       "      <th>2</th>\n",
       "      <td>Director – Data Analytics &amp; Insights</td>\n",
       "      <td>OMERS</td>\n",
       "      <td>Toronto, ON</td>\n",
       "      <td>11 days ago</td>\n",
       "      <td>Toronto, ONWhy join us?\\nWe are looking for a ...</td>\n",
       "      <td>0</td>\n",
       "      <td>0</td>\n",
       "      <td>0</td>\n",
       "      <td>0</td>\n",
       "      <td>0</td>\n",
       "      <td>...</td>\n",
       "      <td>0</td>\n",
       "      <td>0</td>\n",
       "      <td>0</td>\n",
       "      <td>0</td>\n",
       "      <td>0</td>\n",
       "      <td>1</td>\n",
       "      <td>0</td>\n",
       "      <td>0</td>\n",
       "      <td>0</td>\n",
       "      <td>0</td>\n",
       "    </tr>\n",
       "    <tr>\n",
       "      <th>3</th>\n",
       "      <td>Consultant, Digital Strategy &amp; Analytics</td>\n",
       "      <td>CIBC</td>\n",
       "      <td>Toronto, ON</td>\n",
       "      <td>2 days ago</td>\n",
       "      <td>Toronto, ONWe’re on a mission to build the rel...</td>\n",
       "      <td>0</td>\n",
       "      <td>0</td>\n",
       "      <td>0</td>\n",
       "      <td>0</td>\n",
       "      <td>0</td>\n",
       "      <td>...</td>\n",
       "      <td>0</td>\n",
       "      <td>0</td>\n",
       "      <td>0</td>\n",
       "      <td>0</td>\n",
       "      <td>0</td>\n",
       "      <td>0</td>\n",
       "      <td>1</td>\n",
       "      <td>0</td>\n",
       "      <td>0</td>\n",
       "      <td>0</td>\n",
       "    </tr>\n",
       "    <tr>\n",
       "      <th>4</th>\n",
       "      <td>Consultant, Google Analytics</td>\n",
       "      <td>CIBC</td>\n",
       "      <td>Toronto, ON</td>\n",
       "      <td>9 days ago</td>\n",
       "      <td>We’re on a mission to build the relationship-f...</td>\n",
       "      <td>0</td>\n",
       "      <td>0</td>\n",
       "      <td>0</td>\n",
       "      <td>0</td>\n",
       "      <td>0</td>\n",
       "      <td>...</td>\n",
       "      <td>0</td>\n",
       "      <td>0</td>\n",
       "      <td>0</td>\n",
       "      <td>0</td>\n",
       "      <td>0</td>\n",
       "      <td>1</td>\n",
       "      <td>0</td>\n",
       "      <td>0</td>\n",
       "      <td>0</td>\n",
       "      <td>0</td>\n",
       "    </tr>\n",
       "  </tbody>\n",
       "</table>\n",
       "<p>5 rows × 48 columns</p>\n",
       "</div>"
      ],
      "text/plain": [
       "                                  job_title                  company_name  \\\n",
       "0    MANAGEMENT INFORMATION SYSTEMS ANALYST  Westman Communications Group   \n",
       "1               Growth Marketer & Analytics                         Blume   \n",
       "2      Director – Data Analytics & Insights                         OMERS   \n",
       "3  Consultant, Digital Strategy & Analytics                          CIBC   \n",
       "4              Consultant, Google Analytics                          CIBC   \n",
       "\n",
       "    job_location         date  \\\n",
       "0    Brandon, MB     save job   \n",
       "1  Vancouver, BC     save job   \n",
       "2    Toronto, ON  11 days ago   \n",
       "3    Toronto, ON   2 days ago   \n",
       "4    Toronto, ON   9 days ago   \n",
       "\n",
       "                                     job_description AWS Cloud Algebra Azure  \\\n",
       "0  Brandon, MBWESTMAN COMMUNICATIONS GROUP is see...         0       0     0   \n",
       "1  $90,000 - $120,000 a yearJob SummaryValues1. G...         0       0     0   \n",
       "2  Toronto, ONWhy join us?\\nWe are looking for a ...         0       0     0   \n",
       "3  Toronto, ONWe’re on a mission to build the rel...         0       0     0   \n",
       "4  We’re on a mission to build the relationship-f...         0       0     0   \n",
       "\n",
       "  Big Data C/C++ ... Visualisation agile consulting decision making  \\\n",
       "0        0     0 ...             0     0          0               0   \n",
       "1        0     0 ...             0     0          1               0   \n",
       "2        0     0 ...             0     0          0               0   \n",
       "3        0     0 ...             0     0          0               0   \n",
       "4        0     0 ...             0     0          0               0   \n",
       "\n",
       "  leadership management presentation problem solving project_management xml  \n",
       "0          0          1            1               0                  0   0  \n",
       "1          1          1            0               0                  0   0  \n",
       "2          0          1            0               0                  0   0  \n",
       "3          0          0            1               0                  0   0  \n",
       "4          0          1            0               0                  0   0  \n",
       "\n",
       "[5 rows x 48 columns]"
      ]
     },
     "execution_count": 129,
     "metadata": {},
     "output_type": "execute_result"
    }
   ],
   "source": [
    "# reordering columns\n",
    "cols = mng_results_df.columns \n",
    "new_cols = cols.drop(['company_name', 'job_location', 'job_description', 'job_title', 'index', 'date'])\n",
    "new_cols = new_cols.insert(0, 'job_title')\n",
    "new_cols = new_cols.insert(1, 'company_name')\n",
    "new_cols = new_cols.insert(2, 'job_location')\n",
    "new_cols = new_cols.insert(3, 'date')\n",
    "new_cols = new_cols.insert(4, 'job_description')\n",
    "mng_results_df = mng_results_df[new_cols]\n",
    "mng_results_df.head()"
   ]
  },
  {
   "cell_type": "code",
   "execution_count": 130,
   "metadata": {},
   "outputs": [
    {
     "data": {
      "text/html": [
       "<div>\n",
       "<style scoped>\n",
       "    .dataframe tbody tr th:only-of-type {\n",
       "        vertical-align: middle;\n",
       "    }\n",
       "\n",
       "    .dataframe tbody tr th {\n",
       "        vertical-align: top;\n",
       "    }\n",
       "\n",
       "    .dataframe thead th {\n",
       "        text-align: right;\n",
       "    }\n",
       "</style>\n",
       "<table border=\"1\" class=\"dataframe\">\n",
       "  <thead>\n",
       "    <tr style=\"text-align: right;\">\n",
       "      <th></th>\n",
       "      <th>job_title</th>\n",
       "      <th>company_name</th>\n",
       "      <th>job_location</th>\n",
       "      <th>date</th>\n",
       "      <th>job_description</th>\n",
       "      <th>AWS Cloud</th>\n",
       "      <th>Algebra</th>\n",
       "      <th>Azure</th>\n",
       "      <th>Big Data</th>\n",
       "      <th>C/C++</th>\n",
       "      <th>...</th>\n",
       "      <th>Visualisation</th>\n",
       "      <th>agile</th>\n",
       "      <th>consulting</th>\n",
       "      <th>decision making</th>\n",
       "      <th>leadership</th>\n",
       "      <th>management</th>\n",
       "      <th>presentation</th>\n",
       "      <th>problem solving</th>\n",
       "      <th>project_management</th>\n",
       "      <th>xml</th>\n",
       "    </tr>\n",
       "  </thead>\n",
       "  <tbody>\n",
       "    <tr>\n",
       "      <th>0</th>\n",
       "      <td>Growth Marketer &amp; Analytics</td>\n",
       "      <td>Blume</td>\n",
       "      <td>Vancouver, BC</td>\n",
       "      <td>save job</td>\n",
       "      <td>$90,000 - $120,000 a yearJob SummaryValues1. G...</td>\n",
       "      <td>0</td>\n",
       "      <td>0</td>\n",
       "      <td>0</td>\n",
       "      <td>0</td>\n",
       "      <td>0</td>\n",
       "      <td>...</td>\n",
       "      <td>0</td>\n",
       "      <td>0</td>\n",
       "      <td>1</td>\n",
       "      <td>0</td>\n",
       "      <td>1</td>\n",
       "      <td>1</td>\n",
       "      <td>0</td>\n",
       "      <td>0</td>\n",
       "      <td>0</td>\n",
       "      <td>0</td>\n",
       "    </tr>\n",
       "    <tr>\n",
       "      <th>1</th>\n",
       "      <td>Director – Data Analytics &amp; Insights</td>\n",
       "      <td>OMERS</td>\n",
       "      <td>Toronto, ON</td>\n",
       "      <td>11 days ago</td>\n",
       "      <td>Why join us?\\nWe are looking for a highly moti...</td>\n",
       "      <td>0</td>\n",
       "      <td>0</td>\n",
       "      <td>0</td>\n",
       "      <td>0</td>\n",
       "      <td>0</td>\n",
       "      <td>...</td>\n",
       "      <td>0</td>\n",
       "      <td>0</td>\n",
       "      <td>0</td>\n",
       "      <td>0</td>\n",
       "      <td>0</td>\n",
       "      <td>1</td>\n",
       "      <td>0</td>\n",
       "      <td>0</td>\n",
       "      <td>0</td>\n",
       "      <td>0</td>\n",
       "    </tr>\n",
       "    <tr>\n",
       "      <th>2</th>\n",
       "      <td>Manager, Contact Centre and Global Workforce M...</td>\n",
       "      <td>Solium Capital</td>\n",
       "      <td>Calgary, AB</td>\n",
       "      <td>15 days ago</td>\n",
       "      <td>Calgary, ABAbout Solium\\n\\nSolium is fulfillin...</td>\n",
       "      <td>0</td>\n",
       "      <td>0</td>\n",
       "      <td>0</td>\n",
       "      <td>0</td>\n",
       "      <td>0</td>\n",
       "      <td>...</td>\n",
       "      <td>0</td>\n",
       "      <td>0</td>\n",
       "      <td>0</td>\n",
       "      <td>1</td>\n",
       "      <td>1</td>\n",
       "      <td>1</td>\n",
       "      <td>1</td>\n",
       "      <td>0</td>\n",
       "      <td>0</td>\n",
       "      <td>0</td>\n",
       "    </tr>\n",
       "    <tr>\n",
       "      <th>3</th>\n",
       "      <td>Consultant, Digital Strategy &amp; Analytics</td>\n",
       "      <td>CIBC</td>\n",
       "      <td>Toronto, ON</td>\n",
       "      <td>2 days ago</td>\n",
       "      <td>Toronto, ONWe’re on a mission to build the rel...</td>\n",
       "      <td>0</td>\n",
       "      <td>0</td>\n",
       "      <td>0</td>\n",
       "      <td>0</td>\n",
       "      <td>0</td>\n",
       "      <td>...</td>\n",
       "      <td>0</td>\n",
       "      <td>0</td>\n",
       "      <td>0</td>\n",
       "      <td>0</td>\n",
       "      <td>0</td>\n",
       "      <td>0</td>\n",
       "      <td>1</td>\n",
       "      <td>0</td>\n",
       "      <td>0</td>\n",
       "      <td>0</td>\n",
       "    </tr>\n",
       "    <tr>\n",
       "      <th>4</th>\n",
       "      <td>Manager, Forecast and Analytics</td>\n",
       "      <td>Rogers Communications</td>\n",
       "      <td>Toronto, ON</td>\n",
       "      <td>1 day ago</td>\n",
       "      <td>Toronto, ONAt Rogers, we connect Canadians to ...</td>\n",
       "      <td>0</td>\n",
       "      <td>0</td>\n",
       "      <td>0</td>\n",
       "      <td>0</td>\n",
       "      <td>0</td>\n",
       "      <td>...</td>\n",
       "      <td>0</td>\n",
       "      <td>0</td>\n",
       "      <td>0</td>\n",
       "      <td>0</td>\n",
       "      <td>0</td>\n",
       "      <td>1</td>\n",
       "      <td>1</td>\n",
       "      <td>0</td>\n",
       "      <td>0</td>\n",
       "      <td>0</td>\n",
       "    </tr>\n",
       "  </tbody>\n",
       "</table>\n",
       "<p>5 rows × 48 columns</p>\n",
       "</div>"
      ],
      "text/plain": [
       "                                           job_title           company_name  \\\n",
       "0                        Growth Marketer & Analytics                  Blume   \n",
       "1               Director – Data Analytics & Insights                  OMERS   \n",
       "2  Manager, Contact Centre and Global Workforce M...         Solium Capital   \n",
       "3           Consultant, Digital Strategy & Analytics                   CIBC   \n",
       "4                    Manager, Forecast and Analytics  Rogers Communications   \n",
       "\n",
       "    job_location         date  \\\n",
       "0  Vancouver, BC     save job   \n",
       "1    Toronto, ON  11 days ago   \n",
       "2    Calgary, AB  15 days ago   \n",
       "3    Toronto, ON   2 days ago   \n",
       "4    Toronto, ON    1 day ago   \n",
       "\n",
       "                                     job_description AWS Cloud Algebra Azure  \\\n",
       "0  $90,000 - $120,000 a yearJob SummaryValues1. G...         0       0     0   \n",
       "1  Why join us?\\nWe are looking for a highly moti...         0       0     0   \n",
       "2  Calgary, ABAbout Solium\\n\\nSolium is fulfillin...         0       0     0   \n",
       "3  Toronto, ONWe’re on a mission to build the rel...         0       0     0   \n",
       "4  Toronto, ONAt Rogers, we connect Canadians to ...         0       0     0   \n",
       "\n",
       "  Big Data C/C++ ... Visualisation agile consulting decision making  \\\n",
       "0        0     0 ...             0     0          1               0   \n",
       "1        0     0 ...             0     0          0               0   \n",
       "2        0     0 ...             0     0          0               1   \n",
       "3        0     0 ...             0     0          0               0   \n",
       "4        0     0 ...             0     0          0               0   \n",
       "\n",
       "  leadership management presentation problem solving project_management xml  \n",
       "0          1          1            0               0                  0   0  \n",
       "1          0          1            0               0                  0   0  \n",
       "2          1          1            1               0                  0   0  \n",
       "3          0          0            1               0                  0   0  \n",
       "4          0          1            1               0                  0   0  \n",
       "\n",
       "[5 rows x 48 columns]"
      ]
     },
     "execution_count": 130,
     "metadata": {},
     "output_type": "execute_result"
    }
   ],
   "source": [
    "mng_results_df_1000 = mng_results_df_1000[new_cols]\n",
    "mng_results_df_1000.head()"
   ]
  },
  {
   "cell_type": "markdown",
   "metadata": {},
   "source": [
    "##### Technical roles"
   ]
  },
  {
   "cell_type": "code",
   "execution_count": 131,
   "metadata": {},
   "outputs": [
    {
     "data": {
      "text/html": [
       "<div>\n",
       "<style scoped>\n",
       "    .dataframe tbody tr th:only-of-type {\n",
       "        vertical-align: middle;\n",
       "    }\n",
       "\n",
       "    .dataframe tbody tr th {\n",
       "        vertical-align: top;\n",
       "    }\n",
       "\n",
       "    .dataframe thead th {\n",
       "        text-align: right;\n",
       "    }\n",
       "</style>\n",
       "<table border=\"1\" class=\"dataframe\">\n",
       "  <thead>\n",
       "    <tr style=\"text-align: right;\">\n",
       "      <th></th>\n",
       "      <th>job_title</th>\n",
       "      <th>company_name</th>\n",
       "      <th>job_location</th>\n",
       "      <th>date</th>\n",
       "      <th>job_description</th>\n",
       "      <th>AWS Cloud</th>\n",
       "      <th>Algebra</th>\n",
       "      <th>Azure</th>\n",
       "      <th>Big Data</th>\n",
       "      <th>C/C++</th>\n",
       "      <th>...</th>\n",
       "      <th>Visualisation</th>\n",
       "      <th>agile</th>\n",
       "      <th>consulting</th>\n",
       "      <th>decision making</th>\n",
       "      <th>leadership</th>\n",
       "      <th>management</th>\n",
       "      <th>presentation</th>\n",
       "      <th>problem solving</th>\n",
       "      <th>project_management</th>\n",
       "      <th>xml</th>\n",
       "    </tr>\n",
       "  </thead>\n",
       "  <tbody>\n",
       "    <tr>\n",
       "      <th>0</th>\n",
       "      <td>Data QA Analyst</td>\n",
       "      <td>Ritchie Bros.</td>\n",
       "      <td>Burnaby, BC</td>\n",
       "      <td>save job</td>\n",
       "      <td>Are you passionate about getting high-quality ...</td>\n",
       "      <td>0</td>\n",
       "      <td>0</td>\n",
       "      <td>0</td>\n",
       "      <td>0</td>\n",
       "      <td>0</td>\n",
       "      <td>...</td>\n",
       "      <td>0</td>\n",
       "      <td>0</td>\n",
       "      <td>0</td>\n",
       "      <td>0</td>\n",
       "      <td>0</td>\n",
       "      <td>1</td>\n",
       "      <td>1</td>\n",
       "      <td>0</td>\n",
       "      <td>0</td>\n",
       "      <td>0</td>\n",
       "    </tr>\n",
       "    <tr>\n",
       "      <th>1</th>\n",
       "      <td>Data Analyst</td>\n",
       "      <td>SPORTLOGiQ</td>\n",
       "      <td>Montréal, QC</td>\n",
       "      <td>save job</td>\n",
       "      <td>SPORTLOGiQ is a computer vision technology com...</td>\n",
       "      <td>0</td>\n",
       "      <td>0</td>\n",
       "      <td>0</td>\n",
       "      <td>0</td>\n",
       "      <td>0</td>\n",
       "      <td>...</td>\n",
       "      <td>0</td>\n",
       "      <td>0</td>\n",
       "      <td>0</td>\n",
       "      <td>0</td>\n",
       "      <td>0</td>\n",
       "      <td>0</td>\n",
       "      <td>0</td>\n",
       "      <td>0</td>\n",
       "      <td>0</td>\n",
       "      <td>0</td>\n",
       "    </tr>\n",
       "    <tr>\n",
       "      <th>2</th>\n",
       "      <td>Sports Data Analyst - American Football</td>\n",
       "      <td>SPORTLOGiQ</td>\n",
       "      <td>Montréal, QC</td>\n",
       "      <td>save job</td>\n",
       "      <td>SPORTLOGiQ is a computer vision technology com...</td>\n",
       "      <td>0</td>\n",
       "      <td>0</td>\n",
       "      <td>0</td>\n",
       "      <td>0</td>\n",
       "      <td>0</td>\n",
       "      <td>...</td>\n",
       "      <td>0</td>\n",
       "      <td>0</td>\n",
       "      <td>0</td>\n",
       "      <td>0</td>\n",
       "      <td>0</td>\n",
       "      <td>0</td>\n",
       "      <td>0</td>\n",
       "      <td>0</td>\n",
       "      <td>0</td>\n",
       "      <td>0</td>\n",
       "    </tr>\n",
       "    <tr>\n",
       "      <th>3</th>\n",
       "      <td>IT Data Analyst III</td>\n",
       "      <td>TD Bank</td>\n",
       "      <td>London, ON</td>\n",
       "      <td>1 day ago</td>\n",
       "      <td>Tell us your story. Don't go unnoticed. Explai...</td>\n",
       "      <td>0</td>\n",
       "      <td>0</td>\n",
       "      <td>0</td>\n",
       "      <td>0</td>\n",
       "      <td>0</td>\n",
       "      <td>...</td>\n",
       "      <td>0</td>\n",
       "      <td>0</td>\n",
       "      <td>0</td>\n",
       "      <td>0</td>\n",
       "      <td>0</td>\n",
       "      <td>0</td>\n",
       "      <td>0</td>\n",
       "      <td>0</td>\n",
       "      <td>0</td>\n",
       "      <td>0</td>\n",
       "    </tr>\n",
       "    <tr>\n",
       "      <th>4</th>\n",
       "      <td>Portfolio Data Analyst</td>\n",
       "      <td>TD Bank</td>\n",
       "      <td>Toronto, ON</td>\n",
       "      <td>4 days ago</td>\n",
       "      <td>Tell us your story. Don't go unnoticed. Explai...</td>\n",
       "      <td>0</td>\n",
       "      <td>0</td>\n",
       "      <td>0</td>\n",
       "      <td>0</td>\n",
       "      <td>0</td>\n",
       "      <td>...</td>\n",
       "      <td>0</td>\n",
       "      <td>0</td>\n",
       "      <td>0</td>\n",
       "      <td>0</td>\n",
       "      <td>0</td>\n",
       "      <td>0</td>\n",
       "      <td>0</td>\n",
       "      <td>0</td>\n",
       "      <td>0</td>\n",
       "      <td>0</td>\n",
       "    </tr>\n",
       "  </tbody>\n",
       "</table>\n",
       "<p>5 rows × 48 columns</p>\n",
       "</div>"
      ],
      "text/plain": [
       "                                 job_title   company_name  job_location  \\\n",
       "0                          Data QA Analyst  Ritchie Bros.   Burnaby, BC   \n",
       "1                             Data Analyst     SPORTLOGiQ  Montréal, QC   \n",
       "2  Sports Data Analyst - American Football     SPORTLOGiQ  Montréal, QC   \n",
       "3                      IT Data Analyst III        TD Bank    London, ON   \n",
       "4                   Portfolio Data Analyst        TD Bank   Toronto, ON   \n",
       "\n",
       "         date                                    job_description AWS Cloud  \\\n",
       "0    save job  Are you passionate about getting high-quality ...         0   \n",
       "1    save job  SPORTLOGiQ is a computer vision technology com...         0   \n",
       "2    save job  SPORTLOGiQ is a computer vision technology com...         0   \n",
       "3   1 day ago  Tell us your story. Don't go unnoticed. Explai...         0   \n",
       "4  4 days ago  Tell us your story. Don't go unnoticed. Explai...         0   \n",
       "\n",
       "  Algebra Azure Big Data C/C++ ... Visualisation agile consulting  \\\n",
       "0       0     0        0     0 ...             0     0          0   \n",
       "1       0     0        0     0 ...             0     0          0   \n",
       "2       0     0        0     0 ...             0     0          0   \n",
       "3       0     0        0     0 ...             0     0          0   \n",
       "4       0     0        0     0 ...             0     0          0   \n",
       "\n",
       "  decision making leadership management presentation problem solving  \\\n",
       "0               0          0          1            1               0   \n",
       "1               0          0          0            0               0   \n",
       "2               0          0          0            0               0   \n",
       "3               0          0          0            0               0   \n",
       "4               0          0          0            0               0   \n",
       "\n",
       "  project_management xml  \n",
       "0                  0   0  \n",
       "1                  0   0  \n",
       "2                  0   0  \n",
       "3                  0   0  \n",
       "4                  0   0  \n",
       "\n",
       "[5 rows x 48 columns]"
      ]
     },
     "execution_count": 131,
     "metadata": {},
     "output_type": "execute_result"
    }
   ],
   "source": [
    "tech_results_df = tech_results_df[new_cols]\n",
    "tech_results_df.head()"
   ]
  },
  {
   "cell_type": "code",
   "execution_count": 132,
   "metadata": {},
   "outputs": [
    {
     "data": {
      "text/html": [
       "<div>\n",
       "<style scoped>\n",
       "    .dataframe tbody tr th:only-of-type {\n",
       "        vertical-align: middle;\n",
       "    }\n",
       "\n",
       "    .dataframe tbody tr th {\n",
       "        vertical-align: top;\n",
       "    }\n",
       "\n",
       "    .dataframe thead th {\n",
       "        text-align: right;\n",
       "    }\n",
       "</style>\n",
       "<table border=\"1\" class=\"dataframe\">\n",
       "  <thead>\n",
       "    <tr style=\"text-align: right;\">\n",
       "      <th></th>\n",
       "      <th>job_title</th>\n",
       "      <th>company_name</th>\n",
       "      <th>job_location</th>\n",
       "      <th>date</th>\n",
       "      <th>job_description</th>\n",
       "      <th>AWS Cloud</th>\n",
       "      <th>Algebra</th>\n",
       "      <th>Azure</th>\n",
       "      <th>Big Data</th>\n",
       "      <th>C/C++</th>\n",
       "      <th>...</th>\n",
       "      <th>Visualisation</th>\n",
       "      <th>agile</th>\n",
       "      <th>consulting</th>\n",
       "      <th>decision making</th>\n",
       "      <th>leadership</th>\n",
       "      <th>management</th>\n",
       "      <th>presentation</th>\n",
       "      <th>problem solving</th>\n",
       "      <th>project_management</th>\n",
       "      <th>xml</th>\n",
       "    </tr>\n",
       "  </thead>\n",
       "  <tbody>\n",
       "    <tr>\n",
       "      <th>0</th>\n",
       "      <td>Data QA Analyst</td>\n",
       "      <td>Ritchie Bros.</td>\n",
       "      <td>Burnaby, BC</td>\n",
       "      <td>save job</td>\n",
       "      <td>Are you passionate about getting high-quality ...</td>\n",
       "      <td>0</td>\n",
       "      <td>0</td>\n",
       "      <td>0</td>\n",
       "      <td>0</td>\n",
       "      <td>0</td>\n",
       "      <td>...</td>\n",
       "      <td>0</td>\n",
       "      <td>0</td>\n",
       "      <td>0</td>\n",
       "      <td>0</td>\n",
       "      <td>0</td>\n",
       "      <td>1</td>\n",
       "      <td>1</td>\n",
       "      <td>0</td>\n",
       "      <td>0</td>\n",
       "      <td>0</td>\n",
       "    </tr>\n",
       "    <tr>\n",
       "      <th>1</th>\n",
       "      <td>Data Analyst</td>\n",
       "      <td>SPORTLOGiQ</td>\n",
       "      <td>Montréal, QC</td>\n",
       "      <td>save job</td>\n",
       "      <td>SPORTLOGiQ is a computer vision technology com...</td>\n",
       "      <td>0</td>\n",
       "      <td>0</td>\n",
       "      <td>0</td>\n",
       "      <td>0</td>\n",
       "      <td>0</td>\n",
       "      <td>...</td>\n",
       "      <td>0</td>\n",
       "      <td>0</td>\n",
       "      <td>0</td>\n",
       "      <td>0</td>\n",
       "      <td>0</td>\n",
       "      <td>0</td>\n",
       "      <td>0</td>\n",
       "      <td>0</td>\n",
       "      <td>0</td>\n",
       "      <td>0</td>\n",
       "    </tr>\n",
       "    <tr>\n",
       "      <th>2</th>\n",
       "      <td>Sports Data Analyst - American Football</td>\n",
       "      <td>SPORTLOGiQ</td>\n",
       "      <td>Montréal, QC</td>\n",
       "      <td>save job</td>\n",
       "      <td>Montréal, QCSPORTLOGiQ is a computer vision te...</td>\n",
       "      <td>0</td>\n",
       "      <td>0</td>\n",
       "      <td>0</td>\n",
       "      <td>0</td>\n",
       "      <td>0</td>\n",
       "      <td>...</td>\n",
       "      <td>0</td>\n",
       "      <td>0</td>\n",
       "      <td>0</td>\n",
       "      <td>0</td>\n",
       "      <td>0</td>\n",
       "      <td>0</td>\n",
       "      <td>0</td>\n",
       "      <td>0</td>\n",
       "      <td>0</td>\n",
       "      <td>0</td>\n",
       "    </tr>\n",
       "    <tr>\n",
       "      <th>3</th>\n",
       "      <td>Portfolio Data Analyst</td>\n",
       "      <td>TD Bank</td>\n",
       "      <td>Toronto, ON</td>\n",
       "      <td>5 days ago</td>\n",
       "      <td>Toronto, ONTell us your story. Don't go unnoti...</td>\n",
       "      <td>0</td>\n",
       "      <td>0</td>\n",
       "      <td>0</td>\n",
       "      <td>0</td>\n",
       "      <td>0</td>\n",
       "      <td>...</td>\n",
       "      <td>0</td>\n",
       "      <td>0</td>\n",
       "      <td>0</td>\n",
       "      <td>0</td>\n",
       "      <td>0</td>\n",
       "      <td>0</td>\n",
       "      <td>0</td>\n",
       "      <td>0</td>\n",
       "      <td>0</td>\n",
       "      <td>0</td>\n",
       "    </tr>\n",
       "    <tr>\n",
       "      <th>4</th>\n",
       "      <td>GI Pricing Data Scientist</td>\n",
       "      <td>TD Bank</td>\n",
       "      <td>Toronto, ON</td>\n",
       "      <td>2 days ago</td>\n",
       "      <td>Toronto, ONTell us your story. Don't go unnoti...</td>\n",
       "      <td>0</td>\n",
       "      <td>0</td>\n",
       "      <td>0</td>\n",
       "      <td>0</td>\n",
       "      <td>0</td>\n",
       "      <td>...</td>\n",
       "      <td>0</td>\n",
       "      <td>0</td>\n",
       "      <td>0</td>\n",
       "      <td>0</td>\n",
       "      <td>0</td>\n",
       "      <td>0</td>\n",
       "      <td>0</td>\n",
       "      <td>0</td>\n",
       "      <td>0</td>\n",
       "      <td>0</td>\n",
       "    </tr>\n",
       "  </tbody>\n",
       "</table>\n",
       "<p>5 rows × 48 columns</p>\n",
       "</div>"
      ],
      "text/plain": [
       "                                 job_title   company_name  job_location  \\\n",
       "0                          Data QA Analyst  Ritchie Bros.   Burnaby, BC   \n",
       "1                             Data Analyst     SPORTLOGiQ  Montréal, QC   \n",
       "2  Sports Data Analyst - American Football     SPORTLOGiQ  Montréal, QC   \n",
       "3                   Portfolio Data Analyst        TD Bank   Toronto, ON   \n",
       "4                GI Pricing Data Scientist        TD Bank   Toronto, ON   \n",
       "\n",
       "         date                                    job_description AWS Cloud  \\\n",
       "0    save job  Are you passionate about getting high-quality ...         0   \n",
       "1    save job  SPORTLOGiQ is a computer vision technology com...         0   \n",
       "2    save job  Montréal, QCSPORTLOGiQ is a computer vision te...         0   \n",
       "3  5 days ago  Toronto, ONTell us your story. Don't go unnoti...         0   \n",
       "4  2 days ago  Toronto, ONTell us your story. Don't go unnoti...         0   \n",
       "\n",
       "  Algebra Azure Big Data C/C++ ... Visualisation agile consulting  \\\n",
       "0       0     0        0     0 ...             0     0          0   \n",
       "1       0     0        0     0 ...             0     0          0   \n",
       "2       0     0        0     0 ...             0     0          0   \n",
       "3       0     0        0     0 ...             0     0          0   \n",
       "4       0     0        0     0 ...             0     0          0   \n",
       "\n",
       "  decision making leadership management presentation problem solving  \\\n",
       "0               0          0          1            1               0   \n",
       "1               0          0          0            0               0   \n",
       "2               0          0          0            0               0   \n",
       "3               0          0          0            0               0   \n",
       "4               0          0          0            0               0   \n",
       "\n",
       "  project_management xml  \n",
       "0                  0   0  \n",
       "1                  0   0  \n",
       "2                  0   0  \n",
       "3                  0   0  \n",
       "4                  0   0  \n",
       "\n",
       "[5 rows x 48 columns]"
      ]
     },
     "execution_count": 132,
     "metadata": {},
     "output_type": "execute_result"
    }
   ],
   "source": [
    "tech_results_df_1000 = tech_results_df_1000[new_cols]\n",
    "tech_results_df_1000.head()"
   ]
  },
  {
   "cell_type": "markdown",
   "metadata": {},
   "source": [
    "### Job titles in posts scraped from Indeed.ca"
   ]
  },
  {
   "cell_type": "markdown",
   "metadata": {},
   "source": [
    "##### Managerial roles\n",
    "\n",
    "Some job titles are irrelevant to managerial roles, but most appear to be reasonable."
   ]
  },
  {
   "cell_type": "code",
   "execution_count": 133,
   "metadata": {},
   "outputs": [
    {
     "data": {
      "image/png": "[encoded data removed]",
      "text/plain": [
       "<Figure size 576x360 with 1 Axes>"
      ]
     },
     "metadata": {},
     "output_type": "display_data"
    }
   ],
   "source": [
    "series_to_plot = mng_results_df['job_title'].value_counts().iloc[:10]\n",
    "title = 'Top 10 most frequent managerial DS job titles'\n",
    "xlabel = 'Number of job postings'\n",
    "plot_bars_with_minmax(series_to_plot, title, horizontal=True, with_mean=False, xlabel=xlabel,\n",
    "                      with_minmax=False)"
   ]
  },
  {
   "cell_type": "code",
   "execution_count": 135,
   "metadata": {},
   "outputs": [
    {
     "data": {
      "image/png": "[encoded data removed]",
      "text/plain": [
       "<Figure size 576x360 with 1 Axes>"
      ]
     },
     "metadata": {},
     "output_type": "display_data"
    }
   ],
   "source": [
    "series_to_plot = mng_results_df_1000['job_title'].value_counts().iloc[:10]\n",
    "title = 'Top 10 most frequent managerial DS job titles'\n",
    "xlabel = 'Number of job postings'\n",
    "plot_bars_with_minmax(series_to_plot, title, horizontal=True, with_mean=False, xlabel=xlabel,\n",
    "                      with_minmax=False)"
   ]
  },
  {
   "cell_type": "markdown",
   "metadata": {},
   "source": [
    "##### Technical roles\n",
    "\n",
    "Job titles for technical roles appear to be reasonable."
   ]
  },
  {
   "cell_type": "code",
   "execution_count": 136,
   "metadata": {},
   "outputs": [
    {
     "data": {
      "image/png": "[encoded data removed]",
      "text/plain": [
       "<Figure size 576x360 with 1 Axes>"
      ]
     },
     "metadata": {},
     "output_type": "display_data"
    }
   ],
   "source": [
    "series_to_plot = tech_results_df['job_title'].value_counts().iloc[:10]\n",
    "title = 'Top 10 most frequent technical DS job titles'\n",
    "xlabel = 'Number of job postings'\n",
    "plot_bars_with_minmax(series_to_plot, title, horizontal=True, with_mean=False, xlabel=xlabel,\n",
    "                      with_minmax=False)"
   ]
  },
  {
   "cell_type": "code",
   "execution_count": 137,
   "metadata": {},
   "outputs": [
    {
     "data": {
      "image/png": "[encoded data removed]",
      "text/plain": [
       "<Figure size 576x360 with 1 Axes>"
      ]
     },
     "metadata": {},
     "output_type": "display_data"
    }
   ],
   "source": [
    "series_to_plot = tech_results_df_1000['job_title'].value_counts().iloc[:10]\n",
    "title = 'Top 10 most frequent technical DS job titles'\n",
    "xlabel = 'Number of job postings'\n",
    "plot_bars_with_minmax(series_to_plot, title, horizontal=True, with_mean=False, xlabel=xlabel,\n",
    "                      with_minmax=False)"
   ]
  },
  {
   "cell_type": "markdown",
   "metadata": {},
   "source": [
    "### Job locations"
   ]
  },
  {
   "cell_type": "markdown",
   "metadata": {},
   "source": [
    "#### Managerial roles"
   ]
  },
  {
   "cell_type": "code",
   "execution_count": 139,
   "metadata": {},
   "outputs": [
    {
     "data": {
      "image/png": "[encoded data removed]",
      "text/plain": [
       "<Figure size 576x360 with 1 Axes>"
      ]
     },
     "metadata": {},
     "output_type": "display_data"
    }
   ],
   "source": [
    "series_to_plot = mng_results_df['job_location'].value_counts().iloc[:10]\n",
    "title = 'Top 10 most frequent managerial DS job locations'\n",
    "xlabel = 'Number of job postings'\n",
    "plot_bars_with_minmax(series_to_plot, title, horizontal=True, with_mean=False, xlabel=xlabel,\n",
    "                      with_minmax=False)"
   ]
  },
  {
   "cell_type": "code",
   "execution_count": 140,
   "metadata": {},
   "outputs": [
    {
     "data": {
      "image/png": "[encoded data removed]",
      "text/plain": [
       "<Figure size 576x360 with 1 Axes>"
      ]
     },
     "metadata": {},
     "output_type": "display_data"
    }
   ],
   "source": [
    "series_to_plot = mng_results_df_1000['job_location'].value_counts().iloc[:10]\n",
    "title = 'Top 10 most frequent managerial DS job locations'\n",
    "xlabel = 'Number of job postings'\n",
    "plot_bars_with_minmax(series_to_plot, title, horizontal=True, with_mean=False, xlabel=xlabel,\n",
    "                      with_minmax=False)"
   ]
  },
  {
   "cell_type": "markdown",
   "metadata": {},
   "source": [
    "#### Technical roles"
   ]
  },
  {
   "cell_type": "code",
   "execution_count": 143,
   "metadata": {},
   "outputs": [
    {
     "data": {
      "image/png": "[encoded data removed]",
      "text/plain": [
       "<Figure size 576x360 with 1 Axes>"
      ]
     },
     "metadata": {},
     "output_type": "display_data"
    }
   ],
   "source": [
    "series_to_plot = tech_results_df['job_location'].value_counts().iloc[:10]\n",
    "title = 'Top 10 most frequent technical DS job locations'\n",
    "xlabel = 'Number of job postings'\n",
    "plot_bars_with_minmax(series_to_plot, title, horizontal=True, with_mean=False, xlabel=xlabel,\n",
    "                      with_minmax=False)"
   ]
  },
  {
   "cell_type": "code",
   "execution_count": 144,
   "metadata": {},
   "outputs": [
    {
     "data": {
      "image/png": "[encoded data removed]",
      "text/plain": [
       "<Figure size 576x360 with 1 Axes>"
      ]
     },
     "metadata": {},
     "output_type": "display_data"
    }
   ],
   "source": [
    "series_to_plot = tech_results_df_1000['job_location'].value_counts().iloc[:10]\n",
    "title = 'Top 10 most frequent technical DS job locations'\n",
    "xlabel = 'Number of job postings'\n",
    "plot_bars_with_minmax(series_to_plot, title, horizontal=True, with_mean=False, xlabel=xlabel,\n",
    "                      with_minmax=False)"
   ]
  },
  {
   "cell_type": "markdown",
   "metadata": {},
   "source": [
    "### Frequency of skills mentioned in job postings"
   ]
  },
  {
   "cell_type": "markdown",
   "metadata": {},
   "source": [
    "Bar plots that show the frequency at which each skill was mentioned in the scraped job postings are generated to help us interpret the results. This plot indicates the skills that are most in demand in the industry and which should be included in our program and course curriculum as core topics.\n",
    "\n",
    "Furthermore, a comparison can be made between the skills mentioned in the technical job postings and the skills mentioned in the managerial job postings. For example, it can be seen that such skills as Statistics, Machine Learning, Python, and Big Data come up a lot more in the technical job postings. At the same time, soft skills, such as presentation and management, are encountered similarly frequently in both technical and managerial job postings, indicating that these components are equally important to all professionals working in Data Science. Excel also appears very high on both lists, but that might be due to the fact that it is common to list general software proficiencies in all job postings.\n",
    "\n",
    "Both lists are topped with SQL/databases (which is only being flagged by two skill keywords -- \"SQL\" and \"databases\"), indicating that this skillset is relevant to the majority of employers, indicating that it should be incorporated heavily througout the course content."
   ]
  },
  {
   "cell_type": "code",
   "execution_count": 146,
   "metadata": {},
   "outputs": [
    {
     "data": {
      "image/png": "[encoded data removed]",
      "text/plain": [
       "<Figure size 576x864 with 1 Axes>"
      ]
     },
     "metadata": {},
     "output_type": "display_data"
    }
   ],
   "source": [
    "series_to_plot = mng_results_df.iloc[:, 5:].sum().sort_values(ascending=False)\n",
    "ylabel = \"No of job postings\"\n",
    "title = \"Frequency of skills in managerial job postings\"\n",
    "plot_bars_with_minmax(series_to_plot, title, horizontal=True, with_mean=False, xlabel=xlabel, fig_height=12,\n",
    "                      with_minmax=False)"
   ]
  },
  {
   "cell_type": "code",
   "execution_count": 147,
   "metadata": {},
   "outputs": [
    {
     "data": {
      "image/png": "[encoded data removed]",
      "text/plain": [
       "<Figure size 576x864 with 1 Axes>"
      ]
     },
     "metadata": {},
     "output_type": "display_data"
    }
   ],
   "source": [
    "series_to_plot = mng_results_df_1000.iloc[:, 5:].sum().sort_values(ascending=False)\n",
    "ylabel = \"No of job postings\"\n",
    "title = \"Frequency of skills in managerial job postings\"\n",
    "plot_bars_with_minmax(series_to_plot, title, horizontal=True, with_mean=False, xlabel=xlabel, fig_height=12,\n",
    "                      with_minmax=False)"
   ]
  },
  {
   "cell_type": "code",
   "execution_count": 148,
   "metadata": {},
   "outputs": [
    {
     "data": {
      "image/png": "[encoded data removed]",
      "text/plain": [
       "<Figure size 576x864 with 1 Axes>"
      ]
     },
     "metadata": {},
     "output_type": "display_data"
    }
   ],
   "source": [
    "series_to_plot = tech_results_df.iloc[:, 5:].sum().sort_values(ascending=False)\n",
    "ylabel = \"No of job postings\"\n",
    "title = \"Frequency of skills in technical job postings\"\n",
    "plot_bars_with_minmax(series_to_plot, title, horizontal=True, with_mean=False, xlabel=xlabel, fig_height=12,\n",
    "                      with_minmax=False)"
   ]
  },
  {
   "cell_type": "code",
   "execution_count": 149,
   "metadata": {},
   "outputs": [
    {
     "data": {
      "image/png": "[encoded data removed]",
      "text/plain": [
       "<Figure size 576x864 with 1 Axes>"
      ]
     },
     "metadata": {},
     "output_type": "display_data"
    }
   ],
   "source": [
    "series_to_plot = tech_results_df_1000.iloc[:, 5:].sum().sort_values(ascending=False)\n",
    "ylabel = \"No of job postings\"\n",
    "title = \"Frequency of skills in technical job postings\"\n",
    "plot_bars_with_minmax(series_to_plot, title, horizontal=True, with_mean=False, xlabel=xlabel, fig_height=12,\n",
    "                      with_minmax=False)"
   ]
  },
  {
   "cell_type": "markdown",
   "metadata": {},
   "source": [
    "### Hierachical Clustering of skills from job postings scraped form Indeed.ca"
   ]
  },
  {
   "cell_type": "markdown",
   "metadata": {},
   "source": [
    "A dendrogram visualizing the hierarchical clustering of the skills.\n",
    "\n",
    "This plot indicates how the skills demanded by employers in the job postings relate to one another. Jobs that co-occur in multiple job postings end up in the same cluster. As the frequency of co-occurrences of a pair of skills increases, the clusters to which the skills are assigned become closer. \n",
    "\n",
    "We use this information to design the curriculum of each course by teaching the skills in similar/closer clusters together in the same course. "
   ]
  },
  {
   "cell_type": "code",
   "execution_count": null,
   "metadata": {},
   "outputs": [],
   "source": []
  }
 ],
 "metadata": {
  "kernelspec": {
   "display_name": "Python 3",
   "language": "python",
   "name": "python3"
  },
  "language_info": {
   "codemirror_mode": {
    "name": "ipython",
    "version": 3
   },
   "file_extension": ".py",
   "mimetype": "text/x-python",
   "name": "python",
   "nbconvert_exporter": "python",
   "pygments_lexer": "ipython3",
   "version": "3.6.5"
  },
  "toc": {
   "base_numbering": 1,
   "nav_menu": {},
   "number_sections": true,
   "sideBar": true,
   "skip_h1_title": true,
   "title_cell": "Table of Contents",
   "title_sidebar": "Contents",
   "toc_cell": true,
   "toc_position": {},
   "toc_section_display": true,
   "toc_window_display": true
  }
 },
 "nbformat": 4,
 "nbformat_minor": 2
}
