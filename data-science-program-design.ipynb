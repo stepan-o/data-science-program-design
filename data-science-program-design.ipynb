{
 "cells": [
  {
   "cell_type": "markdown",
   "metadata": {
    "toc": true
   },
   "source": [
    "<h1>Table of Contents<span class=\"tocSkip\"></span></h1>\n",
    "<div class=\"toc\"><ul class=\"toc-item\"><li><span><a href=\"#Kaggle's-ML-and-DS-survey\" data-toc-modified-id=\"Kaggle's-ML-and-DS-survey-1\"><span class=\"toc-item-num\">1&nbsp;&nbsp;</span>Kaggle's ML and DS survey</a></span><ul class=\"toc-item\"><li><span><a href=\"#EDA-of-EDA-of-Kaggle-2018-ML-and-DS-survey\" data-toc-modified-id=\"EDA-of-EDA-of-Kaggle-2018-ML-and-DS-survey-1.1\"><span class=\"toc-item-num\">1.1&nbsp;&nbsp;</span>EDA of EDA of Kaggle 2018 ML and DS survey</a></span></li></ul></li></ul></div>"
   ]
  },
  {
   "cell_type": "markdown",
   "metadata": {},
   "source": [
    "## Kaggle's ML and DS survey"
   ]
  },
  {
   "cell_type": "markdown",
   "metadata": {},
   "source": [
    "[At the end of 2018](https://www.kaggle.com/kaggle/kaggle-survey-2018), as in 2017, Kaggle conducted an industry-wide survey of the state of data science and machine learning. The survey was live for one week in October, and after cleaning the data, finished with 23,859 responses, a 49% increase over the results of 2017. This survey presents a comprehensive view of the current state of data science and machine learning."
   ]
  },
  {
   "cell_type": "markdown",
   "metadata": {},
   "source": [
    "According to Kaggle, the results include raw numbers about who is working with data, what’s happening with machine learning in different industries, and the best ways for new data scientists to break into the field."
   ]
  },
  {
   "cell_type": "markdown",
   "metadata": {},
   "source": [
    "### EDA of EDA of Kaggle 2018 ML and DS survey\n",
    "\n",
    "Original EDA can be found [here](https://www.kaggle.com/paultimothymooney/2018-kaggle-machine-learning-data-science-survey)."
   ]
  },
  {
   "cell_type": "code",
   "execution_count": null,
   "metadata": {},
   "outputs": [],
   "source": []
  }
 ],
 "metadata": {
  "kernelspec": {
   "display_name": "Python 3",
   "language": "python",
   "name": "python3"
  },
  "language_info": {
   "codemirror_mode": {
    "name": "ipython",
    "version": 3
   },
   "file_extension": ".py",
   "mimetype": "text/x-python",
   "name": "python",
   "nbconvert_exporter": "python",
   "pygments_lexer": "ipython3",
   "version": "3.7.2"
  },
  "toc": {
   "base_numbering": 1,
   "nav_menu": {},
   "number_sections": true,
   "sideBar": true,
   "skip_h1_title": true,
   "title_cell": "Table of Contents",
   "title_sidebar": "Contents",
   "toc_cell": true,
   "toc_position": {},
   "toc_section_display": true,
   "toc_window_display": true
  },
  "varInspector": {
   "cols": {
    "lenName": 16,
    "lenType": 16,
    "lenVar": 40
   },
   "kernels_config": {
    "python": {
     "delete_cmd_postfix": "",
     "delete_cmd_prefix": "del ",
     "library": "var_list.py",
     "varRefreshCmd": "print(var_dic_list())"
    },
    "r": {
     "delete_cmd_postfix": ") ",
     "delete_cmd_prefix": "rm(",
     "library": "var_list.r",
     "varRefreshCmd": "cat(var_dic_list()) "
    }
   },
   "types_to_exclude": [
    "module",
    "function",
    "builtin_function_or_method",
    "instance",
    "_Feature"
   ],
   "window_display": false
  }
 },
 "nbformat": 4,
 "nbformat_minor": 2
}
