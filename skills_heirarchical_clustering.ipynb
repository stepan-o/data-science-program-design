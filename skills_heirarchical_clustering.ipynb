{
 "cells": [
  {
   "cell_type": "markdown",
   "metadata": {},
   "source": [
    "### Load libraries"
   ]
  },
  {
   "cell_type": "code",
   "execution_count": 1,
   "metadata": {},
   "outputs": [],
   "source": [
    "import re\n",
    "import pandas as pd\n",
    "import numpy as np\n",
    "import matplotlib.pyplot as plt\n",
    "from scipy import zeros as sci_zeros\n",
    "from sklearn.preprocessing import normalize\n",
    "import scipy.cluster.hierarchy as sch\n",
    "from scipy import zeros as sci_zeros\n",
    "from scipy.spatial.distance import euclidean"
   ]
  },
  {
   "cell_type": "markdown",
   "metadata": {},
   "source": [
    "### Define functions"
   ]
  },
  {
   "cell_type": "markdown",
   "metadata": {},
   "source": [
    "#### `fit_plot_hc`"
   ]
  },
  {
   "cell_type": "code",
   "execution_count": 60,
   "metadata": {},
   "outputs": [],
   "source": [
    "def fit_plot_hc(df, title='Hierarchical clustering', fig_height=12, label_size=14):\n",
    "    Y = sch.linkage(df, method='centroid')\n",
    "    \n",
    "    fig = plt.figure(figsize=(12,fig_height))\n",
    "    ax1 = fig.add_axes([0.1,0.1,0.4,0.6])\n",
    "    \n",
    "    Z1 = sch.dendrogram(Y, orientation='right')\n",
    "    labels = skills_list[Z1['leaves']]\n",
    "\n",
    "    ax1.set_xticks([])\n",
    "    ax1.set_yticklabels(labels, fontsize=label_size)\n",
    "\n",
    "    ax1.set_title(title)\n",
    "\n",
    "    plt.show() # supress prints"
   ]
  },
  {
   "cell_type": "markdown",
   "metadata": {},
   "source": [
    "#### `plot_bars_with_minmax`"
   ]
  },
  {
   "cell_type": "code",
   "execution_count": 11,
   "metadata": {},
   "outputs": [],
   "source": [
    "def plot_bars_with_minmax(series_to_plot, plot_title, horizontal=False, color='gray',\n",
    "                          fig_height=5, fig_width=8,\n",
    "                          font_color='darkblue',\n",
    "                          xlabel=\"\", ylabel=\"\", tick_label_size=16,\n",
    "                          with_minmax=True, with_mean=True,\n",
    "                          min_border=0.95, max_border=0.99, minmax_width=0.5,\n",
    "                          sup_line=None):\n",
    "    \"\"\"\n",
    "    function to plot a gray bar chart from a pandas Series,\n",
    "    plots mean\n",
    "    highlights bars with minimum values\n",
    "\n",
    "    Input arguments: series_to_plot -- pandas Series -- Series to plot as a bar chart\n",
    "                     title          -- string        -- string containing title of the chart\n",
    "                     with_minmax    -- boolean       -- option to highlight extreme values\n",
    "                                                        from the Series (default=True)\n",
    "                     min_border     -- float         -- height limit for black min bar on the plot\n",
    "                                                        (default=0.95)\n",
    "                     max_border     -- float         -- height limit for lightgray max bar on the plot\n",
    "                                                        (default=0.99)\n",
    "                     minmax_width   -- float         -- width for min and max bars on the plot\n",
    "                                                        (default=0.5)\n",
    "\n",
    "\n",
    "    Output:          None, plots and shows bar chart with mean and extremes (optional) highlighted\n",
    "    \"\"\"\n",
    "    font = dict(family='serif', color=font_color, weight='normal', size=16)\n",
    "\n",
    "    # create figure and axis\n",
    "    fig, ax = plt.subplots(1, figsize=(fig_width, fig_height))\n",
    "\n",
    "    if horizontal:\n",
    "        # plot a horizontal bar chart from input Series\n",
    "        plt.barh(y=series_to_plot.index,\n",
    "                 width=series_to_plot,\n",
    "                 color=color)\n",
    "        if with_mean:\n",
    "            # plot mean of the series\n",
    "            ax.axvline(series_to_plot.mean(), color='black', linestyle='--', linewidth=1)\n",
    "            ax.text(series_to_plot.mean() * 1.05,\n",
    "                    0,\n",
    "                    \"Mean: {0:.2f}\".format(series_to_plot.mean()),\n",
    "                    fontsize=16)\n",
    "        if sup_line:\n",
    "            ax.axhline(sup_line, color='black', linestyle='--', linewidth=1)\n",
    "        # optional: highlight the bars with minimum values (if input parameter 'with_min' is True)\n",
    "        if with_minmax:\n",
    "            min_se = series_to_plot[series_to_plot == series_to_plot.min()]\n",
    "            plt.barh(min_se.index,\n",
    "                     min_se * min_border,\n",
    "                     minmax_width,\n",
    "                     color='black')\n",
    "\n",
    "            max_se = series_to_plot[series_to_plot == series_to_plot.max()]\n",
    "            plt.barh(max_se.index,\n",
    "                     max_se * max_border,\n",
    "                     minmax_width,\n",
    "                     color='lightgray')\n",
    "        # set axis parameters\n",
    "        ax.set_xlabel(xlabel, fontdict=font)\n",
    "        ax.set_ylabel(ylabel, fontdict=font)\n",
    "        ax.tick_params('both', labelrotation=1, labelsize=tick_label_size)\n",
    "\n",
    "    else:\n",
    "        # plot a bar chart from input Series\n",
    "        plt.bar(x=series_to_plot.index,\n",
    "                height=series_to_plot,\n",
    "                color=color)\n",
    "\n",
    "        if with_mean:\n",
    "            # plot mean of the series\n",
    "            ax.axhline(series_to_plot.mean(), color='black', linestyle='--', linewidth=1)\n",
    "            ax.text(0,\n",
    "                    series_to_plot.mean() * 1.01,\n",
    "                    \"Mean: {0:.2f}\".format(series_to_plot.mean()))\n",
    "\n",
    "        # optional: highlight the bars with minimum values (if input parameter 'with_min' is True)\n",
    "        if with_minmax:\n",
    "            min_se = series_to_plot[series_to_plot == series_to_plot.min()]\n",
    "            plt.bar(x=min_se.index,\n",
    "                    height=min_se * min_border,\n",
    "                    color='black',\n",
    "                    width=minmax_width)\n",
    "            max_se = series_to_plot[series_to_plot == series_to_plot.max()]\n",
    "            plt.bar(x=max_se.index,\n",
    "                    height=max_se * max_border,\n",
    "                    color='lightgray',\n",
    "                    width=minmax_width)\n",
    "        if sup_line:\n",
    "            ax.axvline(sup_line, color='black', linestyle='--', linewidth=1)\n",
    "        # set axis parameters\n",
    "        ax.set_xlabel(xlabel, fontdict=font)\n",
    "        ax.set_xticks(series_to_plot.index)\n",
    "        ax.set_ylabel(ylabel, fontdict=font)\n",
    "        ax.tick_params('both', labelrotation=1, labelsize=tick_label_size)\n",
    "\n",
    "    # set general axis parameters\n",
    "    ax.set_title(plot_title, fontdict=font)\n",
    "    ax.grid(False)\n",
    "\n",
    "    plt.show()\n",
    "    return\n"
   ]
  },
  {
   "cell_type": "markdown",
   "metadata": {},
   "source": [
    "#### `plot_q_parts`"
   ]
  },
  {
   "cell_type": "code",
   "execution_count": 12,
   "metadata": {},
   "outputs": [],
   "source": [
    "def plot_q_parts(question_list, response_df,\n",
    "                 question, parts,\n",
    "                 comment='', return_subset=False, tick_label_size=12,\n",
    "                 fig_height=5, fig_width=8,\n",
    "                 with_minmax=True):\n",
    "    \"\"\"\n",
    "    a function to plot results of a question from Kaggle survey\n",
    "    that are stored in a range of columns\n",
    "    \"\"\"\n",
    "    question_start_col = question + '_Part_1'\n",
    "    question_last_col = question + '_Part_' + str(parts)\n",
    "\n",
    "    question_subset = response_df.loc[:, question_start_col:question_last_col]\n",
    "    answer_categories = []\n",
    "    for column in question_subset.columns:\n",
    "        answer_categories.append(question_list.loc[column].split(' - ')[-1])\n",
    "\n",
    "    question_subset.columns = answer_categories\n",
    "\n",
    "    series_to_plot = question_subset.count().sort_values(ascending=False)\n",
    "\n",
    "    title = question + ': ' + question_list[question + '_Part_1'].split(' - ')[0] + '\\n' + comment\n",
    "\n",
    "    plot_bars_with_minmax(series_to_plot, title, horizontal=True,\n",
    "                          with_mean=False,\n",
    "                          tick_label_size=tick_label_size,\n",
    "                          fig_height=fig_height, fig_width=fig_width,\n",
    "                          with_minmax=with_minmax)\n",
    "\n",
    "    if return_subset:\n",
    "        return series_to_plot\n",
    "    else:\n",
    "        return\n"
   ]
  },
  {
   "cell_type": "markdown",
   "metadata": {},
   "source": [
    "## Hierarchical clustering of the scraped Indeed.ca data"
   ]
  },
  {
   "cell_type": "markdown",
   "metadata": {},
   "source": [
    "### Read the scraped Indeed.ca data"
   ]
  },
  {
   "cell_type": "markdown",
   "metadata": {},
   "source": [
    "#### Managerial job posts skills mentioned"
   ]
  },
  {
   "cell_type": "code",
   "execution_count": 3,
   "metadata": {
    "scrolled": true
   },
   "outputs": [
    {
     "data": {
      "text/html": [
       "<div>\n",
       "<style scoped>\n",
       "    .dataframe tbody tr th:only-of-type {\n",
       "        vertical-align: middle;\n",
       "    }\n",
       "\n",
       "    .dataframe tbody tr th {\n",
       "        vertical-align: top;\n",
       "    }\n",
       "\n",
       "    .dataframe thead th {\n",
       "        text-align: right;\n",
       "    }\n",
       "</style>\n",
       "<table border=\"1\" class=\"dataframe\">\n",
       "  <thead>\n",
       "    <tr style=\"text-align: right;\">\n",
       "      <th></th>\n",
       "      <th>AWS Cloud</th>\n",
       "      <th>Algebra</th>\n",
       "      <th>Azure</th>\n",
       "      <th>Big Data</th>\n",
       "      <th>C/C++</th>\n",
       "      <th>Data Mining/Analytics</th>\n",
       "      <th>DevOps</th>\n",
       "      <th>Excel</th>\n",
       "      <th>GCP</th>\n",
       "      <th>Git</th>\n",
       "      <th>...</th>\n",
       "      <th>Visualisation</th>\n",
       "      <th>agile</th>\n",
       "      <th>consulting</th>\n",
       "      <th>decision making</th>\n",
       "      <th>leadership</th>\n",
       "      <th>management</th>\n",
       "      <th>presentation</th>\n",
       "      <th>problem solving</th>\n",
       "      <th>project_management</th>\n",
       "      <th>xml</th>\n",
       "    </tr>\n",
       "  </thead>\n",
       "  <tbody>\n",
       "    <tr>\n",
       "      <th>0</th>\n",
       "      <td>0</td>\n",
       "      <td>0</td>\n",
       "      <td>0</td>\n",
       "      <td>0</td>\n",
       "      <td>0</td>\n",
       "      <td>1</td>\n",
       "      <td>0</td>\n",
       "      <td>1</td>\n",
       "      <td>0</td>\n",
       "      <td>0</td>\n",
       "      <td>...</td>\n",
       "      <td>0</td>\n",
       "      <td>0</td>\n",
       "      <td>0</td>\n",
       "      <td>0</td>\n",
       "      <td>0</td>\n",
       "      <td>1</td>\n",
       "      <td>1</td>\n",
       "      <td>0</td>\n",
       "      <td>0</td>\n",
       "      <td>0</td>\n",
       "    </tr>\n",
       "    <tr>\n",
       "      <th>1</th>\n",
       "      <td>0</td>\n",
       "      <td>0</td>\n",
       "      <td>0</td>\n",
       "      <td>0</td>\n",
       "      <td>0</td>\n",
       "      <td>1</td>\n",
       "      <td>0</td>\n",
       "      <td>1</td>\n",
       "      <td>0</td>\n",
       "      <td>0</td>\n",
       "      <td>...</td>\n",
       "      <td>0</td>\n",
       "      <td>0</td>\n",
       "      <td>1</td>\n",
       "      <td>0</td>\n",
       "      <td>1</td>\n",
       "      <td>1</td>\n",
       "      <td>0</td>\n",
       "      <td>0</td>\n",
       "      <td>0</td>\n",
       "      <td>0</td>\n",
       "    </tr>\n",
       "    <tr>\n",
       "      <th>2</th>\n",
       "      <td>0</td>\n",
       "      <td>0</td>\n",
       "      <td>0</td>\n",
       "      <td>0</td>\n",
       "      <td>0</td>\n",
       "      <td>1</td>\n",
       "      <td>0</td>\n",
       "      <td>0</td>\n",
       "      <td>0</td>\n",
       "      <td>0</td>\n",
       "      <td>...</td>\n",
       "      <td>0</td>\n",
       "      <td>0</td>\n",
       "      <td>0</td>\n",
       "      <td>0</td>\n",
       "      <td>0</td>\n",
       "      <td>1</td>\n",
       "      <td>0</td>\n",
       "      <td>0</td>\n",
       "      <td>0</td>\n",
       "      <td>0</td>\n",
       "    </tr>\n",
       "    <tr>\n",
       "      <th>3</th>\n",
       "      <td>0</td>\n",
       "      <td>0</td>\n",
       "      <td>0</td>\n",
       "      <td>0</td>\n",
       "      <td>0</td>\n",
       "      <td>1</td>\n",
       "      <td>0</td>\n",
       "      <td>0</td>\n",
       "      <td>0</td>\n",
       "      <td>0</td>\n",
       "      <td>...</td>\n",
       "      <td>0</td>\n",
       "      <td>0</td>\n",
       "      <td>0</td>\n",
       "      <td>0</td>\n",
       "      <td>0</td>\n",
       "      <td>0</td>\n",
       "      <td>1</td>\n",
       "      <td>0</td>\n",
       "      <td>0</td>\n",
       "      <td>0</td>\n",
       "    </tr>\n",
       "    <tr>\n",
       "      <th>4</th>\n",
       "      <td>0</td>\n",
       "      <td>0</td>\n",
       "      <td>0</td>\n",
       "      <td>0</td>\n",
       "      <td>0</td>\n",
       "      <td>1</td>\n",
       "      <td>0</td>\n",
       "      <td>0</td>\n",
       "      <td>0</td>\n",
       "      <td>0</td>\n",
       "      <td>...</td>\n",
       "      <td>0</td>\n",
       "      <td>0</td>\n",
       "      <td>0</td>\n",
       "      <td>0</td>\n",
       "      <td>0</td>\n",
       "      <td>1</td>\n",
       "      <td>0</td>\n",
       "      <td>0</td>\n",
       "      <td>0</td>\n",
       "      <td>0</td>\n",
       "    </tr>\n",
       "  </tbody>\n",
       "</table>\n",
       "<p>5 rows × 43 columns</p>\n",
       "</div>"
      ],
      "text/plain": [
       "   AWS Cloud  Algebra  Azure  Big Data  C/C++  Data Mining/Analytics  DevOps  \\\n",
       "0          0        0      0         0      0                      1       0   \n",
       "1          0        0      0         0      0                      1       0   \n",
       "2          0        0      0         0      0                      1       0   \n",
       "3          0        0      0         0      0                      1       0   \n",
       "4          0        0      0         0      0                      1       0   \n",
       "\n",
       "   Excel  GCP  Git ...   Visualisation  agile  consulting  decision making  \\\n",
       "0      1    0    0 ...               0      0           0                0   \n",
       "1      1    0    0 ...               0      0           1                0   \n",
       "2      0    0    0 ...               0      0           0                0   \n",
       "3      0    0    0 ...               0      0           0                0   \n",
       "4      0    0    0 ...               0      0           0                0   \n",
       "\n",
       "   leadership  management  presentation  problem solving  project_management  \\\n",
       "0           0           1             1                0                   0   \n",
       "1           1           1             0                0                   0   \n",
       "2           0           1             0                0                   0   \n",
       "3           0           0             1                0                   0   \n",
       "4           0           1             0                0                   0   \n",
       "\n",
       "   xml  \n",
       "0    0  \n",
       "1    0  \n",
       "2    0  \n",
       "3    0  \n",
       "4    0  \n",
       "\n",
       "[5 rows x 43 columns]"
      ]
     },
     "execution_count": 3,
     "metadata": {},
     "output_type": "execute_result"
    }
   ],
   "source": [
    "# set file path\n",
    "mng_skills_indeed_path = 'ds_managerial_skills.csv'\n",
    "\n",
    "# read the .csv file\n",
    "df_mng = pd.read_csv(mng_skills_indeed_path)\n",
    "\n",
    "# select only the skill columns\n",
    "df_mng = df_mng.iloc[:, 6:]\n",
    "\n",
    "df_mng.head()"
   ]
  },
  {
   "cell_type": "markdown",
   "metadata": {},
   "source": [
    "#### Technical job posts skills mentioned"
   ]
  },
  {
   "cell_type": "code",
   "execution_count": 4,
   "metadata": {
    "scrolled": true
   },
   "outputs": [
    {
     "data": {
      "text/html": [
       "<div>\n",
       "<style scoped>\n",
       "    .dataframe tbody tr th:only-of-type {\n",
       "        vertical-align: middle;\n",
       "    }\n",
       "\n",
       "    .dataframe tbody tr th {\n",
       "        vertical-align: top;\n",
       "    }\n",
       "\n",
       "    .dataframe thead th {\n",
       "        text-align: right;\n",
       "    }\n",
       "</style>\n",
       "<table border=\"1\" class=\"dataframe\">\n",
       "  <thead>\n",
       "    <tr style=\"text-align: right;\">\n",
       "      <th></th>\n",
       "      <th>AWS Cloud</th>\n",
       "      <th>Algebra</th>\n",
       "      <th>Azure</th>\n",
       "      <th>Big Data</th>\n",
       "      <th>C/C++</th>\n",
       "      <th>Data Mining/Analytics</th>\n",
       "      <th>DevOps</th>\n",
       "      <th>Excel</th>\n",
       "      <th>GCP</th>\n",
       "      <th>Git</th>\n",
       "      <th>...</th>\n",
       "      <th>Visualisation</th>\n",
       "      <th>agile</th>\n",
       "      <th>consulting</th>\n",
       "      <th>decision making</th>\n",
       "      <th>leadership</th>\n",
       "      <th>management</th>\n",
       "      <th>presentation</th>\n",
       "      <th>problem solving</th>\n",
       "      <th>project_management</th>\n",
       "      <th>xml</th>\n",
       "    </tr>\n",
       "  </thead>\n",
       "  <tbody>\n",
       "    <tr>\n",
       "      <th>0</th>\n",
       "      <td>0</td>\n",
       "      <td>0</td>\n",
       "      <td>0</td>\n",
       "      <td>0</td>\n",
       "      <td>0</td>\n",
       "      <td>0</td>\n",
       "      <td>0</td>\n",
       "      <td>0</td>\n",
       "      <td>0</td>\n",
       "      <td>0</td>\n",
       "      <td>...</td>\n",
       "      <td>0</td>\n",
       "      <td>0</td>\n",
       "      <td>0</td>\n",
       "      <td>0</td>\n",
       "      <td>0</td>\n",
       "      <td>1</td>\n",
       "      <td>1</td>\n",
       "      <td>0</td>\n",
       "      <td>0</td>\n",
       "      <td>0</td>\n",
       "    </tr>\n",
       "    <tr>\n",
       "      <th>1</th>\n",
       "      <td>0</td>\n",
       "      <td>0</td>\n",
       "      <td>0</td>\n",
       "      <td>0</td>\n",
       "      <td>0</td>\n",
       "      <td>0</td>\n",
       "      <td>0</td>\n",
       "      <td>0</td>\n",
       "      <td>0</td>\n",
       "      <td>0</td>\n",
       "      <td>...</td>\n",
       "      <td>0</td>\n",
       "      <td>0</td>\n",
       "      <td>0</td>\n",
       "      <td>0</td>\n",
       "      <td>0</td>\n",
       "      <td>0</td>\n",
       "      <td>0</td>\n",
       "      <td>0</td>\n",
       "      <td>0</td>\n",
       "      <td>0</td>\n",
       "    </tr>\n",
       "    <tr>\n",
       "      <th>2</th>\n",
       "      <td>0</td>\n",
       "      <td>0</td>\n",
       "      <td>0</td>\n",
       "      <td>0</td>\n",
       "      <td>0</td>\n",
       "      <td>0</td>\n",
       "      <td>0</td>\n",
       "      <td>0</td>\n",
       "      <td>0</td>\n",
       "      <td>0</td>\n",
       "      <td>...</td>\n",
       "      <td>0</td>\n",
       "      <td>0</td>\n",
       "      <td>0</td>\n",
       "      <td>0</td>\n",
       "      <td>0</td>\n",
       "      <td>0</td>\n",
       "      <td>0</td>\n",
       "      <td>0</td>\n",
       "      <td>0</td>\n",
       "      <td>0</td>\n",
       "    </tr>\n",
       "    <tr>\n",
       "      <th>3</th>\n",
       "      <td>0</td>\n",
       "      <td>0</td>\n",
       "      <td>0</td>\n",
       "      <td>0</td>\n",
       "      <td>0</td>\n",
       "      <td>1</td>\n",
       "      <td>0</td>\n",
       "      <td>0</td>\n",
       "      <td>0</td>\n",
       "      <td>0</td>\n",
       "      <td>...</td>\n",
       "      <td>0</td>\n",
       "      <td>0</td>\n",
       "      <td>0</td>\n",
       "      <td>0</td>\n",
       "      <td>0</td>\n",
       "      <td>0</td>\n",
       "      <td>0</td>\n",
       "      <td>0</td>\n",
       "      <td>0</td>\n",
       "      <td>0</td>\n",
       "    </tr>\n",
       "    <tr>\n",
       "      <th>4</th>\n",
       "      <td>0</td>\n",
       "      <td>0</td>\n",
       "      <td>0</td>\n",
       "      <td>0</td>\n",
       "      <td>0</td>\n",
       "      <td>0</td>\n",
       "      <td>0</td>\n",
       "      <td>0</td>\n",
       "      <td>0</td>\n",
       "      <td>0</td>\n",
       "      <td>...</td>\n",
       "      <td>0</td>\n",
       "      <td>0</td>\n",
       "      <td>0</td>\n",
       "      <td>0</td>\n",
       "      <td>0</td>\n",
       "      <td>0</td>\n",
       "      <td>0</td>\n",
       "      <td>0</td>\n",
       "      <td>0</td>\n",
       "      <td>0</td>\n",
       "    </tr>\n",
       "  </tbody>\n",
       "</table>\n",
       "<p>5 rows × 43 columns</p>\n",
       "</div>"
      ],
      "text/plain": [
       "   AWS Cloud  Algebra  Azure  Big Data  C/C++  Data Mining/Analytics  DevOps  \\\n",
       "0          0        0      0         0      0                      0       0   \n",
       "1          0        0      0         0      0                      0       0   \n",
       "2          0        0      0         0      0                      0       0   \n",
       "3          0        0      0         0      0                      1       0   \n",
       "4          0        0      0         0      0                      0       0   \n",
       "\n",
       "   Excel  GCP  Git ...   Visualisation  agile  consulting  decision making  \\\n",
       "0      0    0    0 ...               0      0           0                0   \n",
       "1      0    0    0 ...               0      0           0                0   \n",
       "2      0    0    0 ...               0      0           0                0   \n",
       "3      0    0    0 ...               0      0           0                0   \n",
       "4      0    0    0 ...               0      0           0                0   \n",
       "\n",
       "   leadership  management  presentation  problem solving  project_management  \\\n",
       "0           0           1             1                0                   0   \n",
       "1           0           0             0                0                   0   \n",
       "2           0           0             0                0                   0   \n",
       "3           0           0             0                0                   0   \n",
       "4           0           0             0                0                   0   \n",
       "\n",
       "   xml  \n",
       "0    0  \n",
       "1    0  \n",
       "2    0  \n",
       "3    0  \n",
       "4    0  \n",
       "\n",
       "[5 rows x 43 columns]"
      ]
     },
     "execution_count": 4,
     "metadata": {},
     "output_type": "execute_result"
    }
   ],
   "source": [
    "# set file path\n",
    "tech_skills_indeed_path = 'ds_tech_skills.csv'\n",
    "\n",
    "# read the .csv file\n",
    "df_tech = pd.read_csv(tech_skills_indeed_path)\n",
    "\n",
    "# select only the skill columns\n",
    "df_tech = df_tech.iloc[:, 6:]\n",
    "\n",
    "df_tech.head()"
   ]
  },
  {
   "cell_type": "markdown",
   "metadata": {},
   "source": [
    "### Get a list with skill names from DF columns"
   ]
  },
  {
   "cell_type": "code",
   "execution_count": 6,
   "metadata": {},
   "outputs": [
    {
     "data": {
      "text/plain": [
       "array(['AWS Cloud', 'Algebra', 'Azure', 'Big Data', 'C/C++',\n",
       "       'Data Mining/Analytics', 'DevOps', 'Excel', 'GCP', 'Git',\n",
       "       'Google Cloud', 'IBM', 'Jason', 'Java', 'MATLAB',\n",
       "       'Machine Learning', 'Mathematics', 'NLP', 'Neural Networks',\n",
       "       'Operations research', 'Oracle', 'Probability', 'Python', 'R',\n",
       "       'SAS', 'SDLC', 'SPSS', 'SQL/databases', 'Scala', 'Stata',\n",
       "       'Statistics', 'Support Vector Machines', 'Team building',\n",
       "       'Visualisation', 'agile', 'consulting', 'decision making',\n",
       "       'leadership', 'management', 'presentation', 'problem solving',\n",
       "       'project_management', 'xml'], dtype=object)"
      ]
     },
     "execution_count": 6,
     "metadata": {},
     "output_type": "execute_result"
    }
   ],
   "source": [
    "# get the list of skill names\n",
    "skills_list = df_mng.columns.values\n",
    "skills_list"
   ]
  },
  {
   "cell_type": "markdown",
   "metadata": {},
   "source": [
    "### Workflow sample -- number of job posts that mention both 'Big data' and 'Scala'"
   ]
  },
  {
   "cell_type": "code",
   "execution_count": 11,
   "metadata": {},
   "outputs": [
    {
     "data": {
      "text/plain": [
       "17"
      ]
     },
     "execution_count": 11,
     "metadata": {},
     "output_type": "execute_result"
    }
   ],
   "source": [
    "mask1 = df_tech['Big Data'] == 1\n",
    "mask2 = df_tech['Scala'] == 1\n",
    "len(df_tech[mask1 & mask2])"
   ]
  },
  {
   "cell_type": "markdown",
   "metadata": {},
   "source": [
    "### Generate of matrix of skill co-occurances"
   ]
  },
  {
   "cell_type": "markdown",
   "metadata": {},
   "source": [
    "Record number of posts where both skills get mentioned for each pair of skills"
   ]
  },
  {
   "cell_type": "code",
   "execution_count": 15,
   "metadata": {},
   "outputs": [],
   "source": [
    "# empty matrix is fill\n",
    "num_skills = len(df_mng.columns)\n",
    "D_mng = sci_zeros([num_skills, num_skills])\n",
    "\n",
    "# Find all element wise temp differences\n",
    "for i in range(num_skills):\n",
    "    for j in range(num_skills):\n",
    "        mask1 = df_mng.iloc[:, i] == 1\n",
    "        mask2 = df_mng.iloc[:, j] == 1\n",
    "        D_mng[i,j] = len(df_mng[mask1 & mask2])"
   ]
  },
  {
   "cell_type": "code",
   "execution_count": 16,
   "metadata": {},
   "outputs": [],
   "source": [
    "# empty matrix is fill\n",
    "num_skills = len(df_tech.columns)\n",
    "D_tech = sci_zeros([num_skills, num_skills])\n",
    "\n",
    "# Find all element wise temp differences\n",
    "for i in range(num_skills):\n",
    "    for j in range(num_skills):\n",
    "        mask1 = df_tech.iloc[:, i] == 1\n",
    "        mask2 = df_tech.iloc[:, j] == 1\n",
    "        D_tech[i,j] = len(df_tech[mask1 & mask2])"
   ]
  },
  {
   "cell_type": "markdown",
   "metadata": {},
   "source": [
    "* Recorded matrix of counts per skill pair. \n",
    "\n",
    "* Diagonal is skill \"paired\" with itself, simply represents total number of job posts where that individual skill is mentioned."
   ]
  },
  {
   "cell_type": "code",
   "execution_count": 41,
   "metadata": {},
   "outputs": [
    {
     "data": {
      "text/plain": [
       "array([[ 15.,   0.,   9., ...,   2.,   2.,   0.],\n",
       "       [  0.,   0.,   0., ...,   0.,   0.,   0.],\n",
       "       [  9.,   0.,  19., ...,   3.,   3.,   0.],\n",
       "       ...,\n",
       "       [  2.,   0.,   3., ..., 137.,  24.,   1.],\n",
       "       [  2.,   0.,   3., ...,  24., 134.,   0.],\n",
       "       [  0.,   0.,   0., ...,   1.,   0.,   1.]])"
      ]
     },
     "execution_count": 41,
     "metadata": {},
     "output_type": "execute_result"
    }
   ],
   "source": [
    "D_mng"
   ]
  },
  {
   "cell_type": "markdown",
   "metadata": {},
   "source": [
    "### Normalize the generated matrix of skill co-occurances"
   ]
  },
  {
   "cell_type": "code",
   "execution_count": 18,
   "metadata": {},
   "outputs": [
    {
     "data": {
      "text/plain": [
       "array([[0.43537742, 0.        , 0.26122645, ..., 0.05805032, 0.05805032,\n",
       "        0.        ],\n",
       "       [0.        , 0.        , 0.        , ..., 0.        , 0.        ,\n",
       "        0.        ],\n",
       "       [0.21841058, 0.        , 0.461089  , ..., 0.07280353, 0.07280353,\n",
       "        0.        ],\n",
       "       ...,\n",
       "       [0.0071657 , 0.        , 0.01074855, ..., 0.49085029, 0.08598837,\n",
       "        0.00358285],\n",
       "       [0.00667606, 0.        , 0.01001409, ..., 0.08011268, 0.44729581,\n",
       "        0.        ],\n",
       "       [0.        , 0.        , 0.        , ..., 0.35355339, 0.        ,\n",
       "        0.35355339]])"
      ]
     },
     "execution_count": 18,
     "metadata": {},
     "output_type": "execute_result"
    }
   ],
   "source": [
    "D_mng_norm = normalize(D_mng)\n",
    "D_mng_norm"
   ]
  },
  {
   "cell_type": "markdown",
   "metadata": {},
   "source": [
    "### Fit an Hierarchical clustering model on skills parsed from job postings scraped from Indeed.ca"
   ]
  },
  {
   "cell_type": "code",
   "execution_count": 40,
   "metadata": {},
   "outputs": [
    {
     "data": {
      "image/png": "[encoded data removed]",
      "text/plain": [
       "<Figure size 864x864 with 1 Axes>"
      ]
     },
     "metadata": {},
     "output_type": "display_data"
    }
   ],
   "source": [
    "title = 'Managerial skills Hierarchical Clustering'\n",
    "fit_plot_hc(D_mng, title=title)"
   ]
  },
  {
   "cell_type": "code",
   "execution_count": 42,
   "metadata": {},
   "outputs": [
    {
     "data": {
      "image/png": "[encoded data removed]",
      "text/plain": [
       "<Figure size 864x864 with 1 Axes>"
      ]
     },
     "metadata": {},
     "output_type": "display_data"
    }
   ],
   "source": [
    "title = 'Managerial skills Hierarchical Clustering'\n",
    "fit_plot_hc(D_tech, title=title)"
   ]
  },
  {
   "cell_type": "markdown",
   "metadata": {},
   "source": [
    "## Hierarchical clustering of Kaggle survey data"
   ]
  },
  {
   "cell_type": "markdown",
   "metadata": {},
   "source": [
    "### Read the Kaggle survey data"
   ]
  },
  {
   "cell_type": "code",
   "execution_count": 44,
   "metadata": {
    "scrolled": true
   },
   "outputs": [
    {
     "name": "stdout",
     "output_type": "stream",
     "text": [
      "23,859 rows in the DataFrame.\n"
     ]
    },
    {
     "data": {
      "text/html": [
       "<div>\n",
       "<style scoped>\n",
       "    .dataframe tbody tr th:only-of-type {\n",
       "        vertical-align: middle;\n",
       "    }\n",
       "\n",
       "    .dataframe tbody tr th {\n",
       "        vertical-align: top;\n",
       "    }\n",
       "\n",
       "    .dataframe thead th {\n",
       "        text-align: right;\n",
       "    }\n",
       "</style>\n",
       "<table border=\"1\" class=\"dataframe\">\n",
       "  <thead>\n",
       "    <tr style=\"text-align: right;\">\n",
       "      <th></th>\n",
       "      <th>Time from Start to Finish (seconds)</th>\n",
       "      <th>Q1</th>\n",
       "      <th>Q1_OTHER_TEXT</th>\n",
       "      <th>Q2</th>\n",
       "      <th>Q3</th>\n",
       "      <th>Q4</th>\n",
       "      <th>Q5</th>\n",
       "      <th>Q6</th>\n",
       "      <th>Q6_OTHER_TEXT</th>\n",
       "      <th>Q7</th>\n",
       "      <th>...</th>\n",
       "      <th>Q50_Part_1</th>\n",
       "      <th>Q50_Part_2</th>\n",
       "      <th>Q50_Part_3</th>\n",
       "      <th>Q50_Part_4</th>\n",
       "      <th>Q50_Part_5</th>\n",
       "      <th>Q50_Part_6</th>\n",
       "      <th>Q50_Part_7</th>\n",
       "      <th>Q50_Part_8</th>\n",
       "      <th>Q50_OTHER_TEXT</th>\n",
       "      <th>Time from Start to Finish (minutes)</th>\n",
       "    </tr>\n",
       "  </thead>\n",
       "  <tbody>\n",
       "    <tr>\n",
       "      <th>1</th>\n",
       "      <td>710</td>\n",
       "      <td>Female</td>\n",
       "      <td>-1</td>\n",
       "      <td>45-49</td>\n",
       "      <td>United States of America</td>\n",
       "      <td>Doctoral degree</td>\n",
       "      <td>Other</td>\n",
       "      <td>Consultant</td>\n",
       "      <td>-1</td>\n",
       "      <td>Other</td>\n",
       "      <td>...</td>\n",
       "      <td>NaN</td>\n",
       "      <td>NaN</td>\n",
       "      <td>NaN</td>\n",
       "      <td>NaN</td>\n",
       "      <td>NaN</td>\n",
       "      <td>NaN</td>\n",
       "      <td>NaN</td>\n",
       "      <td>NaN</td>\n",
       "      <td>-1</td>\n",
       "      <td>11</td>\n",
       "    </tr>\n",
       "  </tbody>\n",
       "</table>\n",
       "<p>1 rows × 396 columns</p>\n",
       "</div>"
      ],
      "text/plain": [
       "   Time from Start to Finish (seconds)      Q1 Q1_OTHER_TEXT     Q2  \\\n",
       "1                                  710  Female            -1  45-49   \n",
       "\n",
       "                         Q3               Q4     Q5          Q6 Q6_OTHER_TEXT  \\\n",
       "1  United States of America  Doctoral degree  Other  Consultant            -1   \n",
       "\n",
       "      Q7                 ...                 Q50_Part_1 Q50_Part_2 Q50_Part_3  \\\n",
       "1  Other                 ...                        NaN        NaN        NaN   \n",
       "\n",
       "  Q50_Part_4 Q50_Part_5 Q50_Part_6 Q50_Part_7 Q50_Part_8 Q50_OTHER_TEXT  \\\n",
       "1        NaN        NaN        NaN        NaN        NaN             -1   \n",
       "\n",
       "  Time from Start to Finish (minutes)  \n",
       "1                                  11  \n",
       "\n",
       "[1 rows x 396 columns]"
      ]
     },
     "execution_count": 44,
     "metadata": {},
     "output_type": "execute_result"
    }
   ],
   "source": [
    "kaggle_survey_path = 'kaggle-survey-2018/multipleChoiceResponses.csv'\n",
    "\n",
    "question_list = pd.read_csv(kaggle_survey_path, nrows=1)\n",
    "question_list = question_list.iloc[0]\n",
    "\n",
    "responses_only = pd.read_csv(kaggle_survey_path, low_memory=False)\n",
    "responses_only = responses_only.drop(0)\n",
    "\n",
    "responses_only['Time from Start to Finish (seconds)'] = \\\n",
    "    responses_only['Time from Start to Finish (seconds)'].astype('int')\n",
    "\n",
    "responses_only['Time from Start to Finish (minutes)'] = \\\n",
    "    responses_only['Time from Start to Finish (seconds)'] // 60\n",
    "\n",
    "# this would only work if column Q9 contains numerical info, original Kaggle survey has it as categories\n",
    "#responses_only['Q9'] = pd.to_numeric(responses_only['Q9'], errors='raise')\n",
    "\n",
    "print(\"{0:,} rows in the DataFrame.\".format(len(responses_only)))\n",
    "responses_only.head(1)"
   ]
  },
  {
   "cell_type": "markdown",
   "metadata": {},
   "source": [
    "### Generate the subset of relevant columns from the Kaggle survey"
   ]
  },
  {
   "cell_type": "code",
   "execution_count": 46,
   "metadata": {},
   "outputs": [],
   "source": [
    "select_questions_list = ['Q11', 'Q14', 'Q15', 'Q16', 'Q19', 'Q21', 'Q31', 'Q47']"
   ]
  },
  {
   "cell_type": "code",
   "execution_count": 47,
   "metadata": {
    "scrolled": true
   },
   "outputs": [
    {
     "name": "stdout",
     "output_type": "stream",
     "text": [
      "['Q11_Part_1', 'Q11_Part_2', 'Q11_Part_3', 'Q11_Part_4', 'Q11_Part_5']\n",
      "['Q14_Part_1', 'Q14_Part_2', 'Q14_Part_3', 'Q14_Part_4', 'Q14_Part_5', 'Q14_Part_6', 'Q14_Part_7', 'Q14_Part_8', 'Q14_Part_9']\n",
      "['Q15_Part_1', 'Q15_Part_2', 'Q15_Part_3', 'Q15_Part_4', 'Q15_Part_5']\n",
      "['Q16_Part_1', 'Q16_Part_2', 'Q16_Part_3', 'Q16_Part_4', 'Q16_Part_5', 'Q16_Part_6', 'Q16_Part_7', 'Q16_Part_8', 'Q16_Part_9', 'Q16_Part_10', 'Q16_Part_11', 'Q16_Part_12', 'Q16_Part_13', 'Q16_Part_14', 'Q16_Part_15', 'Q16_Part_16']\n",
      "['Q19_Part_1', 'Q19_Part_2', 'Q19_Part_3', 'Q19_Part_4', 'Q19_Part_5', 'Q19_Part_6', 'Q19_Part_7', 'Q19_Part_8', 'Q19_Part_9', 'Q19_Part_10', 'Q19_Part_11', 'Q19_Part_12', 'Q19_Part_13', 'Q19_Part_14', 'Q19_Part_15', 'Q19_Part_16', 'Q19_Part_17']\n",
      "['Q21_Part_1', 'Q21_Part_2', 'Q21_Part_3', 'Q21_Part_4', 'Q21_Part_5', 'Q21_Part_6', 'Q21_Part_7', 'Q21_Part_8', 'Q21_Part_9', 'Q21_Part_10', 'Q21_Part_11']\n",
      "['Q31_Part_1', 'Q31_Part_2', 'Q31_Part_3', 'Q31_Part_4', 'Q31_Part_5', 'Q31_Part_6', 'Q31_Part_7', 'Q31_Part_8', 'Q31_Part_9', 'Q31_Part_10']\n",
      "['Q47_Part_1', 'Q47_Part_2', 'Q47_Part_3', 'Q47_Part_4', 'Q47_Part_5', 'Q47_Part_6', 'Q47_Part_7', 'Q47_Part_8', 'Q47_Part_9', 'Q47_Part_10', 'Q47_Part_11', 'Q47_Part_12', 'Q47_Part_13']\n"
     ]
    }
   ],
   "source": [
    "for question in select_questions_list:\n",
    "    # get a list of columns that contain this question\n",
    "    question_cols = [col for col in responses_only.columns if question in col]\n",
    "    # drop the last element from the list (free text)\n",
    "    question_cols.pop()\n",
    "    question_cols.pop()\n",
    "    question_cols.pop()\n",
    "    print(question_cols)"
   ]
  },
  {
   "cell_type": "code",
   "execution_count": 48,
   "metadata": {},
   "outputs": [
    {
     "data": {
      "text/html": [
       "<div>\n",
       "<style scoped>\n",
       "    .dataframe tbody tr th:only-of-type {\n",
       "        vertical-align: middle;\n",
       "    }\n",
       "\n",
       "    .dataframe tbody tr th {\n",
       "        vertical-align: top;\n",
       "    }\n",
       "\n",
       "    .dataframe thead th {\n",
       "        text-align: right;\n",
       "    }\n",
       "</style>\n",
       "<table border=\"1\" class=\"dataframe\">\n",
       "  <thead>\n",
       "    <tr style=\"text-align: right;\">\n",
       "      <th></th>\n",
       "      <th>Analyze and understand data to influence product or business decisions</th>\n",
       "      <th>Build and/or run a machine learning service that operationally improves my product or workflows</th>\n",
       "      <th>Build and/or run the data infrastructure that my business uses for storing, analyzing, and operationalizing data</th>\n",
       "      <th>Build prototypes to explore applying machine learning to new areas</th>\n",
       "      <th>Do research that advances the state of the art of machine learning</th>\n",
       "      <th>Kaggle Kernels</th>\n",
       "      <th>Google Colab</th>\n",
       "      <th>JupyterHub/Binder</th>\n",
       "      <th>Google Cloud Platform (GCP)</th>\n",
       "      <th>Amazon Web Services (AWS)</th>\n",
       "      <th>...</th>\n",
       "      <th>Time Series Data</th>\n",
       "      <th>Examine individual model coefficients</th>\n",
       "      <th>Examine feature correlations</th>\n",
       "      <th>Examine feature importances</th>\n",
       "      <th>Plot decision boundaries</th>\n",
       "      <th>Create partial dependence plots</th>\n",
       "      <th>Dimensionality reduction techniques</th>\n",
       "      <th>Plot predicted vs. actual results</th>\n",
       "      <th>Print out a decision tree</th>\n",
       "      <th>Sensitivity analysis/perturbation importance</th>\n",
       "    </tr>\n",
       "  </thead>\n",
       "  <tbody>\n",
       "    <tr>\n",
       "      <th>1</th>\n",
       "      <td>1</td>\n",
       "      <td>1</td>\n",
       "      <td>1</td>\n",
       "      <td>0</td>\n",
       "      <td>1</td>\n",
       "      <td>0</td>\n",
       "      <td>0</td>\n",
       "      <td>0</td>\n",
       "      <td>0</td>\n",
       "      <td>0</td>\n",
       "      <td>...</td>\n",
       "      <td>0</td>\n",
       "      <td>0</td>\n",
       "      <td>0</td>\n",
       "      <td>0</td>\n",
       "      <td>0</td>\n",
       "      <td>0</td>\n",
       "      <td>0</td>\n",
       "      <td>0</td>\n",
       "      <td>0</td>\n",
       "      <td>0</td>\n",
       "    </tr>\n",
       "    <tr>\n",
       "      <th>2</th>\n",
       "      <td>0</td>\n",
       "      <td>0</td>\n",
       "      <td>0</td>\n",
       "      <td>0</td>\n",
       "      <td>0</td>\n",
       "      <td>0</td>\n",
       "      <td>0</td>\n",
       "      <td>0</td>\n",
       "      <td>0</td>\n",
       "      <td>0</td>\n",
       "      <td>...</td>\n",
       "      <td>0</td>\n",
       "      <td>0</td>\n",
       "      <td>0</td>\n",
       "      <td>0</td>\n",
       "      <td>0</td>\n",
       "      <td>0</td>\n",
       "      <td>0</td>\n",
       "      <td>0</td>\n",
       "      <td>0</td>\n",
       "      <td>0</td>\n",
       "    </tr>\n",
       "    <tr>\n",
       "      <th>3</th>\n",
       "      <td>1</td>\n",
       "      <td>0</td>\n",
       "      <td>0</td>\n",
       "      <td>0</td>\n",
       "      <td>0</td>\n",
       "      <td>0</td>\n",
       "      <td>0</td>\n",
       "      <td>0</td>\n",
       "      <td>0</td>\n",
       "      <td>0</td>\n",
       "      <td>...</td>\n",
       "      <td>1</td>\n",
       "      <td>0</td>\n",
       "      <td>1</td>\n",
       "      <td>1</td>\n",
       "      <td>0</td>\n",
       "      <td>0</td>\n",
       "      <td>0</td>\n",
       "      <td>1</td>\n",
       "      <td>0</td>\n",
       "      <td>0</td>\n",
       "    </tr>\n",
       "    <tr>\n",
       "      <th>4</th>\n",
       "      <td>0</td>\n",
       "      <td>0</td>\n",
       "      <td>0</td>\n",
       "      <td>0</td>\n",
       "      <td>0</td>\n",
       "      <td>1</td>\n",
       "      <td>1</td>\n",
       "      <td>0</td>\n",
       "      <td>1</td>\n",
       "      <td>1</td>\n",
       "      <td>...</td>\n",
       "      <td>1</td>\n",
       "      <td>0</td>\n",
       "      <td>1</td>\n",
       "      <td>1</td>\n",
       "      <td>1</td>\n",
       "      <td>0</td>\n",
       "      <td>0</td>\n",
       "      <td>1</td>\n",
       "      <td>0</td>\n",
       "      <td>1</td>\n",
       "    </tr>\n",
       "    <tr>\n",
       "      <th>5</th>\n",
       "      <td>0</td>\n",
       "      <td>0</td>\n",
       "      <td>0</td>\n",
       "      <td>0</td>\n",
       "      <td>0</td>\n",
       "      <td>0</td>\n",
       "      <td>0</td>\n",
       "      <td>0</td>\n",
       "      <td>0</td>\n",
       "      <td>0</td>\n",
       "      <td>...</td>\n",
       "      <td>0</td>\n",
       "      <td>0</td>\n",
       "      <td>0</td>\n",
       "      <td>0</td>\n",
       "      <td>0</td>\n",
       "      <td>1</td>\n",
       "      <td>0</td>\n",
       "      <td>0</td>\n",
       "      <td>0</td>\n",
       "      <td>0</td>\n",
       "    </tr>\n",
       "  </tbody>\n",
       "</table>\n",
       "<p>5 rows × 52 columns</p>\n",
       "</div>"
      ],
      "text/plain": [
       "   Analyze and understand data to influence product or business decisions  \\\n",
       "1                                                  1                        \n",
       "2                                                  0                        \n",
       "3                                                  1                        \n",
       "4                                                  0                        \n",
       "5                                                  0                        \n",
       "\n",
       "   Build and/or run a machine learning service that operationally improves my product or workflows  \\\n",
       "1                                                  1                                                 \n",
       "2                                                  0                                                 \n",
       "3                                                  0                                                 \n",
       "4                                                  0                                                 \n",
       "5                                                  0                                                 \n",
       "\n",
       "   Build and/or run the data infrastructure that my business uses for storing, analyzing, and operationalizing data  \\\n",
       "1                                                  1                                                                  \n",
       "2                                                  0                                                                  \n",
       "3                                                  0                                                                  \n",
       "4                                                  0                                                                  \n",
       "5                                                  0                                                                  \n",
       "\n",
       "   Build prototypes to explore applying machine learning to new areas  \\\n",
       "1                                                  0                    \n",
       "2                                                  0                    \n",
       "3                                                  0                    \n",
       "4                                                  0                    \n",
       "5                                                  0                    \n",
       "\n",
       "   Do research that advances the state of the art of machine learning  \\\n",
       "1                                                  1                    \n",
       "2                                                  0                    \n",
       "3                                                  0                    \n",
       "4                                                  0                    \n",
       "5                                                  0                    \n",
       "\n",
       "   Kaggle Kernels  Google Colab  JupyterHub/Binder  \\\n",
       "1               0             0                  0   \n",
       "2               0             0                  0   \n",
       "3               0             0                  0   \n",
       "4               1             1                  0   \n",
       "5               0             0                  0   \n",
       "\n",
       "   Google Cloud Platform (GCP)  Amazon Web Services (AWS)  \\\n",
       "1                            0                          0   \n",
       "2                            0                          0   \n",
       "3                            0                          0   \n",
       "4                            1                          1   \n",
       "5                            0                          0   \n",
       "\n",
       "                       ...                       Time Series Data  \\\n",
       "1                      ...                                      0   \n",
       "2                      ...                                      0   \n",
       "3                      ...                                      1   \n",
       "4                      ...                                      1   \n",
       "5                      ...                                      0   \n",
       "\n",
       "   Examine individual model coefficients  Examine feature correlations  \\\n",
       "1                                      0                             0   \n",
       "2                                      0                             0   \n",
       "3                                      0                             1   \n",
       "4                                      0                             1   \n",
       "5                                      0                             0   \n",
       "\n",
       "   Examine feature importances  Plot decision boundaries  \\\n",
       "1                            0                         0   \n",
       "2                            0                         0   \n",
       "3                            1                         0   \n",
       "4                            1                         1   \n",
       "5                            0                         0   \n",
       "\n",
       "   Create partial dependence plots  Dimensionality reduction techniques  \\\n",
       "1                                0                                    0   \n",
       "2                                0                                    0   \n",
       "3                                0                                    0   \n",
       "4                                0                                    0   \n",
       "5                                1                                    0   \n",
       "\n",
       "   Plot predicted vs. actual results  Print out a decision tree  \\\n",
       "1                                  0                          0   \n",
       "2                                  0                          0   \n",
       "3                                  1                          0   \n",
       "4                                  1                          0   \n",
       "5                                  0                          0   \n",
       "\n",
       "   Sensitivity analysis/perturbation importance  \n",
       "1                                             0  \n",
       "2                                             0  \n",
       "3                                             0  \n",
       "4                                             1  \n",
       "5                                             0  \n",
       "\n",
       "[5 rows x 52 columns]"
      ]
     },
     "execution_count": 48,
     "metadata": {},
     "output_type": "execute_result"
    }
   ],
   "source": [
    "select_questions_df = pd.DataFrame()\n",
    "min_records = 22000\n",
    "\n",
    "iteration = 0\n",
    "for question in select_questions_list:\n",
    "    # get a list of columns that contain this question\n",
    "    question_cols = [col for col in responses_only.columns if question in col]\n",
    "    # drop the last three elements from the list (free text, None, Other answer options)\n",
    "    question_cols.pop()\n",
    "    question_cols.pop()\n",
    "    question_cols.pop()\n",
    "    question_subset = responses_only[question_cols].copy()\n",
    "    answer_categories = []\n",
    "    for column in question_subset.columns:\n",
    "        answer_categories.append(question_list.loc[column].split(' - ')[-1])\n",
    "        question_subset[column] = question_subset[column].str.replace(re.escape(answer_categories[-1]), \n",
    "                                                                                     '1')\n",
    "        question_subset[column] = question_subset[column].fillna(0)\n",
    "        if question_subset[column].value_counts().loc[0] > min_records:\n",
    "            question_subset = question_subset.drop(column, axis=1)\n",
    "            answer_categories.pop()\n",
    "        else:\n",
    "            try:\n",
    "                question_subset[column] = question_subset[column].astype('int')\n",
    "            except ValueError:\n",
    "                print(column, \"could not get converted to 'int'\")\n",
    "        \n",
    "    question_subset.columns = answer_categories\n",
    "    iteration += 1\n",
    "    if iteration ==1:\n",
    "        select_questions_df = question_subset\n",
    "    else:\n",
    "        select_questions_df = pd.concat([select_questions_df, question_subset], axis=1)\n",
    "\n",
    "select_questions_df.head()"
   ]
  },
  {
   "cell_type": "code",
   "execution_count": 49,
   "metadata": {},
   "outputs": [
    {
     "data": {
      "text/plain": [
       "Index(['Analyze and understand data to influence product or business decisions',\n",
       "       'Build and/or run a machine learning service that operationally improves my product or workflows',\n",
       "       'Build and/or run the data infrastructure that my business uses for storing, analyzing, and operationalizing data',\n",
       "       'Build prototypes to explore applying machine learning to new areas',\n",
       "       'Do research that advances the state of the art of machine learning',\n",
       "       'Kaggle Kernels', 'Google Colab', 'JupyterHub/Binder',\n",
       "       'Google Cloud Platform (GCP)', 'Amazon Web Services (AWS)',\n",
       "       'Microsoft Azure', 'Python', 'R', 'SQL', 'Bash', 'Java',\n",
       "       'Javascript/Typescript', 'C/C++', 'MATLAB', 'Scikit-Learn',\n",
       "       'TensorFlow', 'Keras', 'PyTorch', 'Spark MLlib', 'Caret', 'Xgboost',\n",
       "       'randomForest', 'lightgbm', 'ggplot2', 'Matplotlib', 'Shiny', 'D3',\n",
       "       'Plotly', 'Bokeh', 'Seaborn', 'Categorical Data', 'Geospatial Data',\n",
       "       'Image Data', 'Numerical Data', 'Sensor Data', 'Tabular Data',\n",
       "       'Text Data', 'Time Series Data',\n",
       "       'Examine individual model coefficients', 'Examine feature correlations',\n",
       "       'Examine feature importances', 'Plot decision boundaries',\n",
       "       'Create partial dependence plots',\n",
       "       'Dimensionality reduction techniques',\n",
       "       'Plot predicted vs. actual results', 'Print out a decision tree',\n",
       "       'Sensitivity analysis/perturbation importance'],\n",
       "      dtype='object')"
      ]
     },
     "execution_count": 49,
     "metadata": {},
     "output_type": "execute_result"
    }
   ],
   "source": [
    "select_questions_df.columns"
   ]
  },
  {
   "cell_type": "markdown",
   "metadata": {},
   "source": [
    "### Get a list with skill names from DF columns"
   ]
  },
  {
   "cell_type": "code",
   "execution_count": 50,
   "metadata": {},
   "outputs": [
    {
     "name": "stdout",
     "output_type": "stream",
     "text": [
      "52 skills in the list\n"
     ]
    },
    {
     "data": {
      "text/plain": [
       "array(['Analyze and understand data to influence product or business decisions',\n",
       "       'Build and/or run a machine learning service that operationally improves my product or workflows',\n",
       "       'Build and/or run the data infrastructure that my business uses for storing, analyzing, and operationalizing data',\n",
       "       'Build prototypes to explore applying machine learning to new areas',\n",
       "       'Do research that advances the state of the art of machine learning',\n",
       "       'Kaggle Kernels', 'Google Colab', 'JupyterHub/Binder',\n",
       "       'Google Cloud Platform (GCP)', 'Amazon Web Services (AWS)',\n",
       "       'Microsoft Azure', 'Python', 'R', 'SQL', 'Bash', 'Java',\n",
       "       'Javascript/Typescript', 'C/C++', 'MATLAB', 'Scikit-Learn',\n",
       "       'TensorFlow', 'Keras', 'PyTorch', 'Spark MLlib', 'Caret',\n",
       "       'Xgboost', 'randomForest', 'lightgbm', 'ggplot2', 'Matplotlib',\n",
       "       'Shiny', 'D3', 'Plotly', 'Bokeh', 'Seaborn', 'Categorical Data',\n",
       "       'Geospatial Data', 'Image Data', 'Numerical Data', 'Sensor Data',\n",
       "       'Tabular Data', 'Text Data', 'Time Series Data',\n",
       "       'Examine individual model coefficients',\n",
       "       'Examine feature correlations', 'Examine feature importances',\n",
       "       'Plot decision boundaries', 'Create partial dependence plots',\n",
       "       'Dimensionality reduction techniques',\n",
       "       'Plot predicted vs. actual results', 'Print out a decision tree',\n",
       "       'Sensitivity analysis/perturbation importance'], dtype=object)"
      ]
     },
     "execution_count": 50,
     "metadata": {},
     "output_type": "execute_result"
    }
   ],
   "source": [
    "# get the list of skill names\n",
    "skills_list = select_questions_df.columns.values\n",
    "print(len(skills_list), \"skills in the list\")\n",
    "skills_list"
   ]
  },
  {
   "cell_type": "markdown",
   "metadata": {},
   "source": [
    "### Generate of matrix of skill co-occurances"
   ]
  },
  {
   "cell_type": "markdown",
   "metadata": {},
   "source": [
    "Record number of posts where both skills get mentioned for each pair of skills"
   ]
  },
  {
   "cell_type": "code",
   "execution_count": 51,
   "metadata": {},
   "outputs": [],
   "source": [
    "# empty matrix is fill\n",
    "num_skills = len(select_questions_df.columns)\n",
    "D = sci_zeros([num_skills, num_skills])\n",
    "\n",
    "# Find all element wise temp differences\n",
    "for i in range(num_skills):\n",
    "    for j in range(num_skills):\n",
    "        mask1 = select_questions_df.iloc[:, i] == 1\n",
    "        mask2 = select_questions_df.iloc[:, j] == 1\n",
    "        D[i,j] = len(select_questions_df[mask1 & mask2])"
   ]
  },
  {
   "cell_type": "code",
   "execution_count": 52,
   "metadata": {},
   "outputs": [
    {
     "data": {
      "text/plain": [
       "array([9532., 3559., 3759., 4504., 2499., 3033., 1631., 2594., 2485.,\n",
       "       4146., 2198., 7477., 4076., 4965., 1430., 1490., 1441., 1389.,\n",
       "       1013., 6167., 4696., 3948., 1762., 1301., 1547., 3425., 3662.,\n",
       "       1266., 4663., 6357., 1875., 1336., 3373., 1230., 4244., 4907.,\n",
       "       1469., 2076., 6258., 1298., 4478., 4636., 4785., 2337., 3200.,\n",
       "       3593., 1919., 1170., 2473., 4351., 2231., 1922.])"
      ]
     },
     "execution_count": 52,
     "metadata": {},
     "output_type": "execute_result"
    }
   ],
   "source": [
    "D[0]"
   ]
  },
  {
   "cell_type": "markdown",
   "metadata": {},
   "source": [
    "* Recorded matrix of counts per skill pair. \n",
    "\n",
    "* Diagonal is skill \"paired\" with itself, simply represents total number of job posts where that individual skill is mentioned."
   ]
  },
  {
   "cell_type": "markdown",
   "metadata": {},
   "source": [
    "### Normalize the generated matrix of skill co-occurances"
   ]
  },
  {
   "cell_type": "code",
   "execution_count": 56,
   "metadata": {},
   "outputs": [
    {
     "data": {
      "text/plain": [
       "array([0.35807872, 0.13369725, 0.14121044, 0.16919708, 0.09387733,\n",
       "       0.11393755, 0.06127008, 0.0974461 , 0.09335141, 0.15574847,\n",
       "       0.08256998, 0.28088068, 0.15311885, 0.18651499, 0.05371932,\n",
       "       0.05597328, 0.05413255, 0.05217912, 0.03805432, 0.23166927,\n",
       "       0.17640974, 0.14831041, 0.06619122, 0.04887331, 0.05811454,\n",
       "       0.12866341, 0.13756654, 0.0475585 , 0.17517007, 0.2388068 ,\n",
       "       0.07043617, 0.05018812, 0.12670998, 0.04620613, 0.15942993,\n",
       "       0.18433616, 0.05518439, 0.07798693, 0.23508777, 0.04876061,\n",
       "       0.16822036, 0.17415579, 0.17975311, 0.08779165, 0.12021107,\n",
       "       0.13497449, 0.07208908, 0.04395217, 0.09290062, 0.16344949,\n",
       "       0.08380965, 0.07220177])"
      ]
     },
     "execution_count": 56,
     "metadata": {},
     "output_type": "execute_result"
    }
   ],
   "source": [
    "D_norm = normalize(D)\n",
    "D_norm[0]"
   ]
  },
  {
   "cell_type": "markdown",
   "metadata": {},
   "source": [
    "### Fit and plot an Hierarchical clustering model on Kaggle survey data"
   ]
  },
  {
   "cell_type": "code",
   "execution_count": 61,
   "metadata": {},
   "outputs": [
    {
     "data": {
      "image/png": "[encoded data removed]",
      "text/plain": [
       "<Figure size 864x1440 with 1 Axes>"
      ]
     },
     "metadata": {},
     "output_type": "display_data"
    }
   ],
   "source": [
    "title = \"Hierarchical clustering of Kaggle survey data\"\n",
    "fit_plot_hc(D_norm, title=title, fig_height=20)"
   ]
  }
 ],
 "metadata": {
  "kernelspec": {
   "display_name": "Python 3",
   "language": "python",
   "name": "python3"
  },
  "language_info": {
   "codemirror_mode": {
    "name": "ipython",
    "version": 3
   },
   "file_extension": ".py",
   "mimetype": "text/x-python",
   "name": "python",
   "nbconvert_exporter": "python",
   "pygments_lexer": "ipython3",
   "version": "3.6.5"
  },
  "toc": {
   "base_numbering": 1,
   "nav_menu": {},
   "number_sections": true,
   "sideBar": true,
   "skip_h1_title": true,
   "title_cell": "Table of Contents",
   "title_sidebar": "Contents",
   "toc_cell": false,
   "toc_position": {},
   "toc_section_display": true,
   "toc_window_display": true
  }
 },
 "nbformat": 4,
 "nbformat_minor": 2
}
